{
 "cells": [
  {
   "cell_type": "code",
   "execution_count": 28,
   "source": [
    "import numpy as np\r\n",
    "import pandas as pd\r\n",
    "import os\r\n",
    "import pypsa\r\n",
    "import plotly\r\n",
    "import plotly.express as px\r\n",
    "import matplotlib.pyplot as plt\r\n",
    "import cartopy.crs as ccrs\r\n",
    "import plotly.graph_objects as go\r\n",
    "import numpy\r\n",
    "\r\n",
    "%matplotlib inline"
   ],
   "outputs": [],
   "metadata": {}
  },
  {
   "cell_type": "code",
   "execution_count": 29,
   "source": [
    "load = pd.read_excel('pypsa-uk-prototype.xlsx', sheet_name='load', parse_dates=['t'], index_col='t',usecols='A:M').dropna(axis=1, how='all').dropna()\r\n",
    "pv = pd.read_excel('pypsa-uk-prototype.xlsx', sheet_name='pv', parse_dates=['t'], index_col='t',usecols='A:M').dropna(axis=1, how='all').dropna()\r\n",
    "wind = pd.read_excel('pypsa-uk-prototype.xlsx', sheet_name='wind', parse_dates=['t'], index_col='t',usecols='A:M').dropna(axis=1, how='all').dropna()\r\n",
    "wind_offshore = pd.read_excel('pypsa-uk-prototype.xlsx', sheet_name='wind_offshore', parse_dates=['t'], index_col='t',usecols='A:M').dropna(axis=1, how='all').dropna()\r\n",
    "chp = pd.read_excel('pypsa-uk-prototype.xlsx', sheet_name='chp', parse_dates=['t'], index_col='t',usecols='A:AD').dropna(axis=1, how='all').dropna()\r\n",
    "#cbf = pd.read_excel('pypsa-uk-prototype.xlsx', sheet_name='cbf', parse_dates=['t'], index_col='t',usecols='A:I').dropna(axis=1, how='all').dropna()\r\n",
    "\r\n",
    "buses = pd.read_excel('pypsa-uk-prototype.xlsx', sheet_name='buses', index_col=0)\r\n",
    "cbf_buses = pd.read_excel('pypsa-uk-prototype.xlsx', sheet_name='cbf_buses', index_col=0)\r\n",
    "lines = pd.read_excel('pypsa-uk-prototype.xlsx', sheet_name='lines', index_col='name').dropna(axis=1, how='all').dropna()\r\n",
    "links = pd.read_excel('pypsa-uk-prototype.xlsx', sheet_name='links', index_col='name').dropna(axis=1, how='all').dropna()\r\n",
    "gen_pv = pd.read_excel('pypsa-uk-prototype.xlsx', sheet_name='gen_pv', index_col=0)\r\n",
    "gen_wind = pd.read_excel('pypsa-uk-prototype.xlsx', sheet_name='gen_wind', index_col=0)\r\n",
    "gen_wind_offshore = pd.read_excel('pypsa-uk-prototype.xlsx', sheet_name='gen_wind_offshore', index_col=0)\r\n",
    "gen_gas = pd.read_excel('pypsa-uk-prototype.xlsx', sheet_name='gen_gas', index_col=0, usecols='A:H')\r\n",
    "gen_oil = pd.read_excel('pypsa-uk-prototype.xlsx', sheet_name='gen_oil', index_col=0)\r\n",
    "gen_coal = pd.read_excel('pypsa-uk-prototype.xlsx', sheet_name='gen_coal', index_col=0)\r\n",
    "gen_nuclear = pd.read_excel('pypsa-uk-prototype.xlsx', sheet_name='gen_nuclear', index_col=0)\r\n",
    "gen_biomass = pd.read_excel('pypsa-uk-prototype.xlsx', sheet_name='gen_biomass', index_col=0, usecols='A:G')\r\n",
    "gen_biogas = pd.read_excel('pypsa-uk-prototype.xlsx', sheet_name='gen_biogas', index_col=0, usecols='A:G')\r\n",
    "gen_hydro = pd.read_excel('pypsa-uk-prototype.xlsx', sheet_name='gen_hydro', index_col=0)\r\n",
    "gen_dsr = pd.read_excel('pypsa-uk-prototype.xlsx', sheet_name='gen_dsr', index_col=0, usecols='A:F')\r\n",
    "gen_chp = pd.read_excel('pypsa-uk-prototype.xlsx', sheet_name='gen_chp', index_col=0, usecols='A:F')\r\n",
    "gen_cbf = pd.read_excel('pypsa-uk-prototype.xlsx', sheet_name='gen_cbf', index_col=0)\r\n",
    "st_hps = pd.read_excel('pypsa-uk-prototype.xlsx', sheet_name='st_hps', index_col=0)\r\n",
    "st_battery = pd.read_excel('pypsa-uk-prototype.xlsx', sheet_name='st_battery', index_col=0, usecols='A:I')\r\n",
    "st_other = pd.read_excel('pypsa-uk-prototype.xlsx', sheet_name='st_other', index_col=0, usecols='A:I')"
   ],
   "outputs": [],
   "metadata": {}
  },
  {
   "cell_type": "code",
   "execution_count": 30,
   "source": [
    "network = pypsa.Network()\r\n",
    "network.set_snapshots(load.index)\r\n",
    "\r\n",
    "network.import_components_from_dataframe(buses, 'Bus')\r\n",
    "network.import_components_from_dataframe(cbf_buses, 'Bus')\r\n",
    "\r\n",
    "network.import_components_from_dataframe(lines, 'Line')\r\n",
    "network.lines['s_nom_extendable'] = True  \r\n",
    "\r\n",
    "network.madd(\"Link\", links.index,\r\n",
    "             bus0=links['bus0'].tolist(), bus1= links['bus1'].tolist(),\r\n",
    "             p_nom=0)#links['p_nom'].tolist())\r\n",
    "\r\n",
    "network.madd(\"Generator\", gen_cbf.index, suffix='_CBF', carrier='CBF',\r\n",
    "             bus=gen_cbf.index.tolist(), p_nom=gen_cbf['p_nom'].to_list(), p_nom_extendable=False, \r\n",
    "             marginal_cost=gen_cbf['marginal_cost'].to_list())\r\n",
    "\r\n",
    "dict_carriers = {\r\n",
    "    'Lignite': 0.334, 'Hard coal': 0.354, 'Gas': 0.187, 'Gas CCS': 0, 'Oil': 0.334, 'Hydrogen': 0, 'Biomass': 0.403, 'Biogas': 0.178, 'BECCS': 0,\r\n",
    "    'Geothermal': 0.026, 'Wind': 0, 'Wind offshore': 0, 'PV': 0, 'HPS': 0, 'Hydro': 0, 'CBF': 0, 'VOLL': 0, 'Battery': 0, 'Other storage' : 0, 'Nuclear': 0\r\n",
    "}\r\n",
    "\r\n",
    "for carrier in dict_carriers:\r\n",
    "    network.add(\"Carrier\", name=carrier, co2_emissions=dict_carriers[carrier])\r\n",
    "\r\n",
    "# Load\r\n",
    "#demand_increase = 2\r\n",
    "#load = load*demand_increase\r\n",
    "\r\n",
    "network.madd(\"Load\", load.columns, bus=load.columns, p_set=load)"
   ],
   "outputs": [
    {
     "output_type": "stream",
     "name": "stderr",
     "text": [
      "C:\\ProgramData\\Miniconda3\\envs\\instrat-energy-model\\lib\\site-packages\\pypsa\\io.py:771: FutureWarning:\n",
      "\n",
      "Index.__or__ operating as a set operation is deprecated, in the future this will be a logical operation matching Series.__or__.  Use index.union(other) instead\n",
      "\n"
     ]
    },
    {
     "output_type": "execute_result",
     "data": {
      "text/plain": [
       "Index(['EN_NorthEast', 'EN_NorthWest', 'EN_Yorkshire', 'EN_EastMidlands',\n",
       "       'EN_WestMidlands', 'EN_East', 'EN_London', 'EN_SouthEast',\n",
       "       'EN_SouthWest', 'EN_Wales', 'Scotland', 'NorthernIreland'],\n",
       "      dtype='object')"
      ]
     },
     "metadata": {},
     "execution_count": 30
    }
   ],
   "metadata": {}
  },
  {
   "cell_type": "code",
   "execution_count": 31,
   "source": [
    "network.madd('Generator', \r\n",
    "      gen_pv['bus'],\r\n",
    "      suffix='_PV',\r\n",
    "      bus=gen_pv['bus'].to_list(), \r\n",
    "      p_nom_extendable=False, \r\n",
    "      p_nom=gen_pv['p_nom'].to_list(),\r\n",
    "      carrier='PV', \r\n",
    "      marginal_cost=gen_pv['marginal_cost'].to_list(), \r\n",
    "      p_max_pu=pv)\r\n",
    "\r\n",
    "\r\n",
    "network.madd('Generator', \r\n",
    "      gen_wind['bus'],\r\n",
    "      suffix='_Wind',\r\n",
    "      bus=gen_wind['bus'].to_list(), \r\n",
    "      p_nom_extendable=False, \r\n",
    "      p_nom=gen_wind['p_nom'].to_list(), \r\n",
    "      carrier='Wind', \r\n",
    "      marginal_cost=gen_wind['marginal_cost'].to_list(), \r\n",
    "      p_max_pu=wind)\r\n",
    "\r\n",
    "network.madd('Generator', \r\n",
    "      gen_wind_offshore['bus'],\r\n",
    "      suffix='_Wind_offshore',\r\n",
    "      bus=gen_wind_offshore['bus'].to_list(), \r\n",
    "      p_nom_extendable=False, \r\n",
    "      p_nom=gen_wind_offshore['p_nom'].to_list(), \r\n",
    "      carrier='Wind offshore', \r\n",
    "      marginal_cost=gen_wind_offshore['marginal_cost'].to_list(), \r\n",
    "      p_max_pu=wind_offshore)\r\n",
    "\r\n",
    "network.madd('Generator', \r\n",
    "      gen_gas.index,\r\n",
    "      bus=gen_gas['bus'].to_list(), \r\n",
    "      p_nom_extendable=False, \r\n",
    "      p_nom=gen_gas['p_nom'].to_list(), \r\n",
    "      carrier=gen_gas['carrier'].to_list(), \r\n",
    "      marginal_cost=gen_gas['marginal_cost'].to_list(),\r\n",
    "      efficiency=gen_gas['efficiency'].to_list()\r\n",
    "      )\r\n",
    "\r\n",
    "network.madd('Generator', \r\n",
    "      gen_oil.index,\r\n",
    "      bus=gen_oil['bus'].to_list(), \r\n",
    "      p_nom_extendable=False, \r\n",
    "      p_nom=gen_oil['p_nom'].to_list(), \r\n",
    "      carrier='Oil', \r\n",
    "      marginal_cost=gen_oil['marginal_cost'].to_list(),\r\n",
    "      efficiency=gen_oil['efficiency'].to_list()\r\n",
    "      )\r\n",
    "\r\n",
    "network.madd('Generator', \r\n",
    "      gen_coal.index,\r\n",
    "      bus=gen_coal['bus'].to_list(), \r\n",
    "      p_nom_extendable=False, \r\n",
    "      p_nom=gen_coal['p_nom'].to_list(), \r\n",
    "      carrier=gen_coal['carrier'].to_list(), \r\n",
    "      marginal_cost=gen_coal['marginal_cost'].to_list(),\r\n",
    "      efficiency=gen_coal['efficiency'].to_list()\r\n",
    "      )\r\n",
    "\r\n",
    "network.madd('Generator', \r\n",
    "      gen_nuclear.index,\r\n",
    "      bus=gen_nuclear['bus'].to_list(), \r\n",
    "      p_nom_extendable=False, \r\n",
    "      p_nom=gen_nuclear['p_nom'].to_list(), \r\n",
    "      carrier='Nuclear', \r\n",
    "      marginal_cost=gen_nuclear['marginal_cost'].to_list(),\r\n",
    "      efficiency=gen_nuclear['efficiency'].to_list(),\r\n",
    "      p_max_pu=gen_nuclear['p_max_pu'].to_list()\r\n",
    "      )\r\n",
    "\r\n",
    "network.madd('Generator', \r\n",
    "      gen_biomass.index,\r\n",
    "      bus=gen_biomass['bus'].to_list(), \r\n",
    "      p_nom_extendable=False, \r\n",
    "      p_nom=gen_biomass['p_nom'].to_list(), \r\n",
    "      carrier=gen_biomass['carrier'].to_list(), \r\n",
    "      marginal_cost=gen_biomass['marginal_cost'].to_list(),\r\n",
    "      efficiency=gen_biomass['efficiency'].to_list(),\r\n",
    "      p_max_pu=gen_biomass['p_max_pu'].to_list()\r\n",
    "      )\r\n",
    "\r\n",
    "network.madd('Generator', \r\n",
    "      gen_biogas['bus'],\r\n",
    "      suffix='_Biogas',\r\n",
    "      bus=gen_biogas['bus'].to_list(), \r\n",
    "      p_nom_extendable=False, \r\n",
    "      p_nom=gen_biogas['p_nom'].to_list(), \r\n",
    "      carrier='Biogas', \r\n",
    "      marginal_cost=gen_biogas['marginal_cost'].to_list(),\r\n",
    "      efficiency=gen_biogas['efficiency'].to_list(),\r\n",
    "      p_max_pu=gen_biogas['p_max_pu'].to_list()\r\n",
    "      )\r\n",
    "\r\n",
    "network.madd('Generator', \r\n",
    "      gen_hydro['bus'],\r\n",
    "      suffix='_Hydro',\r\n",
    "      bus=gen_hydro['bus'].to_list(), \r\n",
    "      p_nom_extendable=False, \r\n",
    "      p_nom=gen_hydro['p_nom'].to_list(), \r\n",
    "      carrier='Hydro', \r\n",
    "      marginal_cost=gen_hydro['marginal_cost'].to_list(),\r\n",
    "      p_max_pu=gen_hydro['p_max_pu'].to_list()\r\n",
    "      )\r\n",
    "\r\n",
    "network.madd('Generator', \r\n",
    "      gen_dsr['bus'],\r\n",
    "      suffix='_DSR',\r\n",
    "      bus=gen_dsr['bus'].to_list(), \r\n",
    "      p_nom_extendable=False, \r\n",
    "      p_nom=gen_dsr['p_nom'].to_list(), \r\n",
    "      carrier='DSR', \r\n",
    "      marginal_cost=gen_dsr['marginal_cost'].to_list(),\r\n",
    "      p_max_pu=gen_dsr['p_max_pu'].to_list()\r\n",
    "      )\r\n",
    "\r\n",
    "network.madd('Generator', \r\n",
    "      gen_chp.index,\r\n",
    "      bus=gen_chp['bus'].to_list(), \r\n",
    "      p_nom_extendable=False, \r\n",
    "      p_nom=gen_chp['p_nom'].to_list(), \r\n",
    "      carrier=gen_chp['carrier'].to_list(), \r\n",
    "      marginal_cost=gen_chp['marginal_cost'].to_list(),\r\n",
    "      p_max_pu=chp,\r\n",
    "      p_min_pu=chp*0.9,\r\n",
    "      efficiency=gen_chp['efficiency'].to_list()\r\n",
    "      )\r\n",
    "\r\n",
    "network.madd(\"StorageUnit\", st_hps.index, bus=st_hps['bus'].tolist(), carrier=st_hps['carrier'].tolist(),\r\n",
    "             p_nom=st_hps['p_nom'].tolist(), p_nom_extendable=False, max_hours=st_hps['max_hours'].to_list(),\r\n",
    "             p_max_pu=st_hps['p_max_pu'].tolist(),\r\n",
    "             efficiency_dispatch=st_hps['efficiency_dispatch'].tolist(),\r\n",
    "             standing_loss=st_hps['standing_loss'].tolist())\r\n",
    "            \r\n",
    "network.madd(\"StorageUnit\", st_battery.index, bus=st_battery['bus'].tolist(), carrier=st_battery['carrier'].tolist(),\r\n",
    "             p_nom=st_battery['p_nom'].tolist(), p_nom_extendable=False, max_hours=st_battery['max_hours'].to_list(),\r\n",
    "             p_max_pu=st_battery['p_max_pu'].tolist(),\r\n",
    "             efficiency_dispatch=st_battery['efficiency_dispatch'].tolist(),\r\n",
    "             standing_loss=st_battery['standing_loss'].tolist())\r\n",
    "\r\n",
    "network.madd(\"StorageUnit\", st_other.index, bus=st_other['bus'].tolist(), carrier=st_other['carrier'].tolist(),\r\n",
    "             p_nom=st_other['p_nom'].tolist(), p_nom_extendable=False, max_hours=st_other['max_hours'].to_list(),\r\n",
    "             p_max_pu=st_other['p_max_pu'].tolist(),\r\n",
    "             efficiency_dispatch=st_other['efficiency_dispatch'].tolist(),\r\n",
    "             standing_loss=st_other['standing_loss'].tolist())\r\n"
   ],
   "outputs": [
    {
     "output_type": "execute_result",
     "data": {
      "text/plain": [
       "Index(['EN_NorthEast_OtherStorage', 'EN_NorthWest_OtherStorage',\n",
       "       'EN_Yorkshire_OtherStorage', 'EN_EastMidlands_OtherStorage',\n",
       "       'EN_WestMidlands_OtherStorage', 'EN_East_OtherStorage',\n",
       "       'EN_London_OtherStorage', 'EN_SouthEast_OtherStorage',\n",
       "       'EN_SouthWest_OtherStorage', 'EN_Wales_OtherStorage',\n",
       "       'Scotland_OtherStorage', 'NorthernIreland_OtherStorage'],\n",
       "      dtype='object', name='name')"
      ]
     },
     "metadata": {},
     "execution_count": 31
    }
   ],
   "metadata": {}
  },
  {
   "cell_type": "code",
   "execution_count": 32,
   "source": [
    "network.lopf(snapshots=network.snapshots, solver_name='cplex', pyomo=False)"
   ],
   "outputs": [
    {
     "output_type": "stream",
     "name": "stderr",
     "text": [
      "INFO:pypsa.linopf:Prepare linear problem\n",
      "C:\\ProgramData\\Miniconda3\\envs\\instrat-energy-model\\lib\\site-packages\\pypsa\\linopf.py:85: FutureWarning:\n",
      "\n",
      "Index.__or__ operating as a set operation is deprecated, in the future this will be a logical operation matching Series.__or__.  Use index.union(other) instead\n",
      "\n",
      "C:\\ProgramData\\Miniconda3\\envs\\instrat-energy-model\\lib\\site-packages\\pypsa\\linopf.py:185: FutureWarning:\n",
      "\n",
      "Index.__and__ operating as a set operation is deprecated, in the future this will be a logical operation matching Series.__and__.  Use index.intersection(other) instead\n",
      "\n",
      "INFO:pypsa.linopf:Total preparation time: 23.21s\n",
      "INFO:pypsa.linopf:Solve linear problem using Cplex solver\n"
     ]
    },
    {
     "output_type": "stream",
     "name": "stdout",
     "text": [
      "Version identifier: 12.10.0.0 | 2019-11-26 | 843d4de2ae\n",
      "CPXPARAM_Read_DataCheck                          1\n",
      "Parallel mode: deterministic, using up to 12 threads for concurrent optimization:\n",
      " * Starting dual Simplex on 1 thread...\n",
      " * Starting Barrier on 10 threads...\n",
      " * Starting primal Simplex on 1 thread...\n",
      "Tried aggregator 1 time.\n",
      "LP Presolve eliminated 5623920 rows and 1270218 columns.\n",
      "Aggregator did 96360 substitutions.\n",
      "Reduced LP has 315360 rows, 1419120 columns, and 2654251 nonzeros.\n",
      "Presolve time = 8.38 sec. (3944.57 ticks)\n",
      "\n",
      "Iteration log . . .\n",
      "Iteration:     1   Dual objective     =             0.000000\n",
      "Perturbation started.\n",
      "Iteration:   101   Dual objective     =             0.000000\n",
      "Iteration:  2716   Dual objective     =             0.000007\n",
      "Iteration:  5189   Dual objective     =             0.014638\n",
      "Iteration:  7596   Dual objective     =        639987.921365\n",
      "Iteration:  9931   Dual objective     =       1656433.871493\n",
      "Iteration: 12267   Dual objective     =       2422586.605172\n",
      "Iteration: 14581   Dual objective     =       2686722.593445\n",
      "Iteration: 16896   Dual objective     =       2952942.511520\n",
      "Iteration: 19204   Dual objective     =       3291328.889893\n",
      "Iteration: 21513   Dual objective     =       3577716.944275\n",
      "Iteration: 23909   Dual objective     =       5251653.587346\n",
      "Iteration: 26238   Dual objective     =       5890386.153244\n",
      "Iteration: 28539   Dual objective     =       6137038.807464\n",
      "Iteration: 30851   Dual objective     =       6353715.141464\n",
      "Iteration: 33161   Dual objective     =       6411454.038252\n",
      "Iteration: 35487   Dual objective     =       6551209.510825\n",
      "Iteration: 37818   Dual objective     =       6587014.657783\n",
      "Iteration: 40151   Dual objective     =       6635140.573960\n",
      "Iteration: 42499   Dual objective     =       6669095.454040\n",
      "Iteration: 44847   Dual objective     =       6677683.345193\n",
      "Iteration: 47193   Dual objective     =       6697857.772199\n",
      "Iteration: 49533   Dual objective     =       6698396.828820\n",
      "Iteration: 51877   Dual objective     =       6903203.260473\n",
      "Iteration: 54233   Dual objective     =       6904449.829205\n",
      "Iteration: 57086   Dual objective     =       7496299.740570\n",
      "Iteration: 59488   Dual objective     =       7579512.431314\n",
      "Iteration: 61871   Dual objective     =       7579514.210059\n",
      "Iteration: 64256   Dual objective     =       7614376.705524\n",
      "Iteration: 67072   Dual objective     =       8568853.550674\n",
      "Iteration: 69676   Dual objective     =       9953720.405490\n",
      "Iteration: 72169   Dual objective     =      10482503.594048\n",
      "Iteration: 74700   Dual objective     =      11764176.290755\n",
      "Iteration: 77139   Dual objective     =      13806331.305425\n",
      "Iteration: 79797   Dual objective     =      14984403.335513\n",
      "Iteration: 82399   Dual objective     =      16825226.854579\n",
      "Iteration: 84792   Dual objective     =      19525263.477528\n",
      "Iteration: 87247   Dual objective     =      21558018.115963\n",
      "Iteration: 89652   Dual objective     =      27356118.736527\n",
      "Iteration: 92215   Dual objective     =      30713842.893902\n",
      "Elapsed time = 14.72 sec. (10000.02 ticks, 93762 iterations)\n",
      "Iteration: 94547   Dual objective     =      39281206.390983\n",
      "Iteration: 97198   Dual objective     =      40906589.122322\n",
      "Iteration: 99363   Dual objective     =      43209844.497846\n",
      "Iteration: 101338   Dual objective     =      46371156.085332\n",
      "Iteration: 103424   Dual objective     =      52128083.888269\n",
      "Iteration: 105481   Dual objective     =      54175123.393244\n",
      "Iteration: 107838   Dual objective     =      57249868.489383\n",
      "Iteration: 110259   Dual objective     =      59463741.856348\n",
      "Iteration: 112582   Dual objective     =      63008398.857920\n",
      "Iteration: 114534   Dual objective     =      64923698.921519\n",
      "Iteration: 116559   Dual objective     =      67322186.582630\n",
      "Iteration: 118451   Dual objective     =      70019318.103813\n",
      "Iteration: 120900   Dual objective     =      72717784.287478\n",
      "Iteration: 123368   Dual objective     =      76668256.761756\n",
      "Iteration: 125644   Dual objective     =      77105900.255414\n",
      "Iteration: 127663   Dual objective     =      78220095.352814\n",
      "Iteration: 129613   Dual objective     =      79982741.096466\n",
      "Iteration: 131603   Dual objective     =      82383335.834233\n",
      "Iteration: 133577   Dual objective     =      85926188.351255\n",
      "Iteration: 135624   Dual objective     =      89434630.959164\n",
      "Iteration: 138103   Dual objective     =      94554785.875792\n",
      "Iteration: 140501   Dual objective     =      98454440.339409\n",
      "Iteration: 142783   Dual objective     =     100530256.754591\n",
      "Iteration: 144833   Dual objective     =     100811620.170777\n",
      "Iteration: 146842   Dual objective     =     105620810.148595\n",
      "Iteration: 148759   Dual objective     =     107266041.046857\n",
      "Iteration: 150773   Dual objective     =     108685366.959077\n",
      "Iteration: 152727   Dual objective     =     118228145.376795\n",
      "Iteration: 154695   Dual objective     =     125583664.666679\n",
      "Iteration: 156509   Dual objective     =     127632610.159109\n",
      "Iteration: 158681   Dual objective     =     130754580.745362\n",
      "Iteration: 160580   Dual objective     =     134958492.229006\n",
      "Iteration: 163052   Dual objective     =     137907465.739533\n",
      "Iteration: 165471   Dual objective     =     141768209.914296\n",
      "Iteration: 167774   Dual objective     =     146256750.072832\n",
      "Iteration: 169824   Dual objective     =     147655752.726963\n",
      "Iteration: 171710   Dual objective     =     151876854.841020\n",
      "Iteration: 173686   Dual objective     =     155822754.684657\n",
      "Iteration: 175596   Dual objective     =     157478502.367431\n",
      "Iteration: 177454   Dual objective     =     158911855.557259\n",
      "Iteration: 179344   Dual objective     =     160156514.059652\n",
      "Iteration: 181206   Dual objective     =     167344452.665590\n",
      "Iteration: 183161   Dual objective     =     175240560.374989\n",
      "Iteration: 185180   Dual objective     =     187266101.422122\n",
      "Iteration: 187718   Dual objective     =     191218940.865419\n",
      "Iteration: 190315   Dual objective     =     196665132.923740\n",
      "Iteration: 192449   Dual objective     =     199055162.289683\n",
      "Iteration: 194366   Dual objective     =     200083598.746082\n",
      "Iteration: 196330   Dual objective     =     200620256.103517\n",
      "Iteration: 198206   Dual objective     =     201320777.124362\n",
      "Iteration: 200136   Dual objective     =     201691971.367840\n",
      "Iteration: 202008   Dual objective     =     209543319.871636\n",
      "Iteration: 204358   Dual objective     =     219865645.444105\n",
      "Iteration: 207081   Dual objective     =     226935675.088154\n",
      "Iteration: 209654   Dual objective     =     228657647.173875\n",
      "Iteration: 212031   Dual objective     =     229906765.642737\n",
      "Iteration: 213861   Dual objective     =     240934208.190519\n",
      "Iteration: 215980   Dual objective     =     251271604.055112\n",
      "Iteration: 218492   Dual objective     =     256269306.751565\n",
      "Iteration: 221099   Dual objective     =     258982625.439585\n",
      "Iteration: 223265   Dual objective     =     272882006.065610\n",
      "Iteration: 225026   Dual objective     =     314776840.659703\n",
      "Elapsed time = 29.95 sec. (20000.07 ticks, 227249 iterations)\n",
      "Iteration: 227404   Dual objective     =     326858131.874288\n",
      "Iteration: 230047   Dual objective     =     331620011.869954\n",
      "Iteration: 232596   Dual objective     =     333960948.392409\n",
      "Iteration: 234527   Dual objective     =     350179059.645507\n",
      "Iteration: 236430   Dual objective     =     379976026.578193\n",
      "Iteration: 238280   Dual objective     =     392919732.216599\n",
      "Iteration: 240144   Dual objective     =     410308414.368584\n",
      "Iteration: 242221   Dual objective     =     431334436.946186\n",
      "Iteration: 244580   Dual objective     =     440228393.262423\n",
      "Iteration: 246837   Dual objective     =     443484130.328187\n",
      "Iteration: 249105   Dual objective     =     447033627.822552\n",
      "Iteration: 251362   Dual objective     =     450138117.188798\n",
      "Iteration: 253775   Dual objective     =     455672473.796111\n",
      "Iteration: 255871   Dual objective     =     459732074.264582\n",
      "Iteration: 257747   Dual objective     =     471540191.864543\n",
      "Iteration: 259592   Dual objective     =     498872613.311149\n",
      "Iteration: 261361   Dual objective     =     512228168.688908\n",
      "Iteration: 263308   Dual objective     =     522291205.917843\n",
      "Iteration: 265181   Dual objective     =     524734168.627309\n",
      "Iteration: 267150   Dual objective     =     528083515.525425\n",
      "Iteration: 269106   Dual objective     =     529465287.407484\n",
      "Iteration: 270918   Dual objective     =     543658289.198877\n",
      "Iteration: 272821   Dual objective     =     551475582.148366\n",
      "Iteration: 274649   Dual objective     =     554765671.312255\n",
      "Iteration: 276562   Dual objective     =     561302233.712461\n",
      "Iteration: 278408   Dual objective     =     564175923.767332\n",
      "Iteration: 280306   Dual objective     =     567662293.985983\n",
      "Iteration: 282083   Dual objective     =     578263264.474846\n",
      "Iteration: 283887   Dual objective     =     580544379.884804\n",
      "Iteration: 285786   Dual objective     =     598307615.744569\n",
      "Iteration: 287625   Dual objective     =     611288326.789948\n",
      "Iteration: 289483   Dual objective     =     612690540.415403\n",
      "Iteration: 291230   Dual objective     =     623186642.837369\n",
      "Iteration: 293163   Dual objective     =     624927576.935719\n",
      "Iteration: 294978   Dual objective     =     627928201.160937\n",
      "Iteration: 296923   Dual objective     =     629777531.000392\n",
      "Iteration: 298756   Dual objective     =     644520976.404337\n",
      "Iteration: 300568   Dual objective     =     651938787.833553\n",
      "Iteration: 302495   Dual objective     =     653986050.441254\n",
      "Iteration: 304347   Dual objective     =     657685221.857496\n",
      "Iteration: 306160   Dual objective     =     664174797.355543\n",
      "Iteration: 307921   Dual objective     =     670726783.066182\n",
      "Iteration: 309714   Dual objective     =     675784395.969586\n",
      "Iteration: 311545   Dual objective     =     683522994.680953\n",
      "Iteration: 313443   Dual objective     =     687025566.617198\n",
      "Iteration: 315264   Dual objective     =     689275385.490493\n",
      "Iteration: 317064   Dual objective     =     697814804.474380\n",
      "Iteration: 319263   Dual objective     =     708766768.062711\n",
      "Iteration: 322052   Dual objective     =     714708862.897244\n",
      "Iteration: 324998   Dual objective     =     719943572.835048\n",
      "Iteration: 326894   Dual objective     =     720453673.195507\n",
      "Iteration: 328788   Dual objective     =     726356700.064183\n",
      "Iteration: 330622   Dual objective     =     729143317.614467\n",
      "Iteration: 332624   Dual objective     =     730336903.644529\n",
      "Iteration: 334824   Dual objective     =     734525022.656538\n",
      "Iteration: 337052   Dual objective     =     741118793.650990\n",
      "Iteration: 339875   Dual objective     =     746740953.779357\n",
      "Elapsed time = 42.56 sec. (30055.94 ticks, 342090 iterations)\n",
      "Iteration: 342090   Dual objective     =     750668998.518106\n",
      "Iteration: 343968   Dual objective     =     750867484.537420\n",
      "Iteration: 345753   Dual objective     =     760472472.050649\n",
      "Iteration: 347698   Dual objective     =     761969001.028948\n",
      "Iteration: 349415   Dual objective     =     769614982.985097\n",
      "Iteration: 351846   Dual objective     =     776967099.850165\n",
      "Iteration: 354809   Dual objective     =     781315825.939918\n",
      "Iteration: 357369   Dual objective     =     787423342.278281\n",
      "Iteration: 359183   Dual objective     =     789963327.090044\n",
      "Iteration: 361101   Dual objective     =     790969139.228693\n",
      "Iteration: 362978   Dual objective     =     794869964.524719\n",
      "Iteration: 365604   Dual objective     =     798269403.401806\n",
      "Iteration: 368636   Dual objective     =     802643765.532452\n",
      "Iteration: 370816   Dual objective     =     807927334.671929\n",
      "Iteration: 372748   Dual objective     =     808538675.448377\n",
      "Iteration: 374612   Dual objective     =     815457193.440032\n",
      "Iteration: 377289   Dual objective     =     819311382.357739\n",
      "Iteration: 380077   Dual objective     =     824188242.873470\n",
      "Iteration: 382573   Dual objective     =     829211822.277752\n",
      "Iteration: 384998   Dual objective     =     832513496.373164\n",
      "Iteration: 387925   Dual objective     =     836337554.126896\n",
      "Iteration: 390465   Dual objective     =     839572672.180489\n",
      "Iteration: 392406   Dual objective     =     845396235.044251\n",
      "Iteration: 394061   Dual objective     =     849739949.153814\n",
      "Iteration: 395862   Dual objective     =     851648078.690560\n",
      "Iteration: 397668   Dual objective     =     853386811.735220\n",
      "Iteration: 400581   Dual objective     =     857516721.090348\n",
      "Iteration: 403505   Dual objective     =     861612395.568109\n",
      "Iteration: 405566   Dual objective     =     862142628.957327\n",
      "Iteration: 407366   Dual objective     =     865758339.267275\n",
      "Iteration: 409157   Dual objective     =     867233597.854758\n",
      "Iteration: 410952   Dual objective     =     869660849.934331\n",
      "Iteration: 412758   Dual objective     =     870527183.821384\n",
      "Iteration: 414587   Dual objective     =     874090882.050635\n",
      "Iteration: 416421   Dual objective     =     876192506.883436\n",
      "Iteration: 418192   Dual objective     =     879280667.502601\n",
      "Iteration: 420024   Dual objective     =     882039333.675949\n",
      "Iteration: 421775   Dual objective     =     882748518.762852\n",
      "Iteration: 423518   Dual objective     =     884017477.946197\n",
      "Iteration: 425355   Dual objective     =     884601393.935308\n",
      "Iteration: 427164   Dual objective     =     885139202.348533\n",
      "Iteration: 428993   Dual objective     =     885368031.013663\n",
      "Iteration: 430797   Dual objective     =     886018854.659946\n",
      "Iteration: 432650   Dual objective     =     886240790.925392\n",
      "Iteration: 434446   Dual objective     =     886474021.218031\n",
      "Iteration: 436259   Dual objective     =     887120472.845653\n",
      "Iteration: 438145   Dual objective     =     888011688.947964\n",
      "Iteration: 439862   Dual objective     =     889604701.898725\n",
      "Iteration: 441556   Dual objective     =     890683120.456443\n",
      "Iteration: 443272   Dual objective     =     891084099.428823\n",
      "Iteration: 445031   Dual objective     =     893530911.111718\n",
      "Iteration: 446737   Dual objective     =     893765999.696677\n",
      "Iteration: 448498   Dual objective     =     894905424.771957\n",
      "Iteration: 450211   Dual objective     =     896299682.229248\n",
      "Iteration: 451926   Dual objective     =     897068895.596818\n",
      "Iteration: 453700   Dual objective     =     897782787.297567\n",
      "Iteration: 455385   Dual objective     =     898774463.423584\n",
      "Elapsed time = 53.83 sec. (40055.95 ticks, 456035 iterations)\n",
      "Iteration: 457123   Dual objective     =     898955788.938393\n",
      "Iteration: 458795   Dual objective     =     900083536.450797\n",
      "Iteration: 461407   Dual objective     =     901108919.002694\n",
      "Iteration: 464460   Dual objective     =     902212696.281976\n",
      "Iteration: 466535   Dual objective     =     902876995.702518\n",
      "Iteration: 468304   Dual objective     =     903141449.047740\n",
      "Iteration: 470058   Dual objective     =     903624313.354005\n",
      "Iteration: 471759   Dual objective     =     904174302.768380\n",
      "Iteration: 473475   Dual objective     =     904593523.358533\n",
      "Iteration: 475260   Dual objective     =     904771469.764563\n",
      "Iteration: 476844   Dual objective     =     905164205.371504\n",
      "Iteration: 478578   Dual objective     =     905327984.192049\n",
      "Iteration: 480288   Dual objective     =     905422835.113000\n",
      "Iteration: 482014   Dual objective     =     905617508.750364\n",
      "Iteration: 483691   Dual objective     =     905713535.612142\n",
      "Iteration: 485413   Dual objective     =     905875830.390284\n",
      "Iteration: 487104   Dual objective     =     906020784.968483\n",
      "Iteration: 488759   Dual objective     =     906118977.623744\n",
      "Iteration: 490355   Dual objective     =     906173590.469781\n",
      "Iteration: 491964   Dual objective     =     906241783.325402\n",
      "Iteration: 493603   Dual objective     =     906339799.491994\n",
      "Iteration: 495206   Dual objective     =     906448983.016541\n",
      "Iteration: 496839   Dual objective     =     906502060.907321\n",
      "Iteration: 498478   Dual objective     =     906566022.903880\n",
      "Iteration: 500133   Dual objective     =     906653836.892436\n",
      "Iteration: 503113   Dual objective     =     906862484.039175\n",
      "Iteration: 506147   Dual objective     =     907036400.833509\n",
      "Iteration: 507786   Dual objective     =     907090319.314811\n",
      "Iteration: 509392   Dual objective     =     907120405.092450\n",
      "Iteration: 512388   Dual objective     =     907242145.110183\n",
      "Iteration: 515381   Dual objective     =     907348240.229391\n",
      "Iteration: 517054   Dual objective     =     907377531.905370\n",
      "Iteration: 518595   Dual objective     =     907384340.705869\n",
      "Iteration: 520030   Dual objective     =     907391841.211375\n",
      "Removing perturbation.\n",
      "\n",
      "Primal simplex solved model.\n",
      "\n"
     ]
    },
    {
     "output_type": "stream",
     "name": "stderr",
     "text": [
      "INFO:pypsa.linopf:Optimization successful. Objective value: 9.07e+08\n"
     ]
    },
    {
     "output_type": "execute_result",
     "data": {
      "text/plain": [
       "('ok', 'optimal')"
      ]
     },
     "metadata": {},
     "execution_count": 32
    }
   ],
   "metadata": {}
  },
  {
   "cell_type": "code",
   "execution_count": 34,
   "source": [
    "p_by_carrier = network.generators_t.p.groupby(network.generators.carrier, axis=1).sum()\r\n",
    "\r\n",
    "generation_by_fuel_yearly = p_by_carrier.sum()/1000000\r\n",
    "generation_by_fuel_yearly"
   ],
   "outputs": [
    {
     "output_type": "execute_result",
     "data": {
      "text/plain": [
       "carrier\n",
       "BECCS              4.711538\n",
       "Biogas             4.660280\n",
       "Biomass           12.647387\n",
       "CBF                0.000000\n",
       "DSR                0.000000\n",
       "Gas               10.186588\n",
       "Gas CCS            4.362702\n",
       "Hard coal          0.000000\n",
       "Hydro              2.389499\n",
       "Hydrogen          10.815127\n",
       "Nuclear           17.009599\n",
       "Oil                0.000669\n",
       "PV                40.235289\n",
       "Wind              78.925991\n",
       "Wind offshore    172.982994\n",
       "dtype: float64"
      ]
     },
     "metadata": {},
     "execution_count": 34
    }
   ],
   "metadata": {}
  },
  {
   "cell_type": "code",
   "execution_count": 25,
   "source": [
    "load_distribution = network.loads_t.p_set.loc[network.snapshots[0]].groupby(network.loads.bus).sum().reindex(network.buses.index,fill_value=0.)\r\n",
    "lines_by_name = pd.DataFrame(network.lines)\r\n",
    "lines_by_name[\"2019\"] = abs(network.lines_t.p0).max(0)\r\n",
    "lines_by_name[\"voltage\"] = 400\r\n",
    "lines_by_name[\"power\"] = lines_by_name[\"num_parallel\"]*1640\r\n",
    "\r\n",
    "lines_by_name[\"load\"] = abs(lines_by_name[\"2019\"]/lines_by_name[\"power\"])\r\n",
    "\r\n",
    "parameters = dict(\r\n",
    "    zoom=4,\r\n",
    "    center={\"lat\": 54.5490229241779, \"lon\": -3.12346413890583},\r\n",
    ")\r\n",
    "\r\n",
    "fig = dict(\r\n",
    "    data=[],\r\n",
    "    layout=dict(\r\n",
    "        width=800,\r\n",
    "        height=500,\r\n",
    "        plot_bgcolor='white',\r\n",
    "        margin=dict(t=80, b=50,l=50, r=50),\r\n",
    "        font=dict(\r\n",
    "            family=\"Work Sans, sans-serif\",\r\n",
    "            size=13,\r\n",
    "            color=\"black\"\r\n",
    "        ),\r\n",
    "        annotations=[\r\n",
    "            go.layout.Annotation( \r\n",
    "                text='<i>Demand concentrated in South East, with wind generation focused in the North.</i>',\r\n",
    "                align='left',\r\n",
    "                showarrow=False,\r\n",
    "                xref='paper',\r\n",
    "                yref='paper',\r\n",
    "                x=0,\r\n",
    "                y=1.05,\r\n",
    "                xanchor=\"left\", \r\n",
    "                yanchor=\"top\",\r\n",
    "                visible=True,\r\n",
    "                font=dict(\r\n",
    "                    family=\"Work Sans, sans-serif\",\r\n",
    "                    size=11,\r\n",
    "                    color=\"grey\"\r\n",
    "                )\r\n",
    "            ),\r\n",
    "            go.layout.Annotation( \r\n",
    "                text='<i>Sources: Ember, CC BY 4.0.</i>',\r\n",
    "                align='left',\r\n",
    "                showarrow=False,\r\n",
    "                xref='paper',\r\n",
    "                yref='paper',\r\n",
    "                x=0,\r\n",
    "                y=-0.05,\r\n",
    "                xanchor=\"left\", \r\n",
    "                yanchor=\"top\",\r\n",
    "                visible=True,\r\n",
    "                font=dict(\r\n",
    "                    family=\"Work Sans, sans-serif\",\r\n",
    "                    size=11,\r\n",
    "                    color=\"grey\"\r\n",
    "                )\r\n",
    "            ),\r\n",
    "        ]\r\n",
    "    )\r\n",
    ") \r\n",
    "\r\n",
    "fig = network.iplot(fig=fig, line_widths=lines_by_name[\"load\"]*2,\r\n",
    "                     mapbox=True, mapbox_style='carto-positron', mapbox_token='', mapbox_parameters=parameters, bus_sizes=0.01*load_distribution, title='<b>Load distribution per line and demand per node</b>')"
   ],
   "outputs": [
    {
     "output_type": "display_data",
     "data": {
      "application/vnd.plotly.v1+json": {
       "config": {
        "linkText": "Export to plot.ly",
        "plotlyServerURL": "https://plot.ly",
        "showLink": false
       },
       "data": [
        {
         "lat": [
          50.9701199883886,
          51.105841708201
         ],
         "line": {
          "color": "darkseagreen",
          "width": 3
         },
         "lon": [
          1.90732913740976,
          0.199390683324611
         ],
         "mode": "lines",
         "opacity": 0.8,
         "type": "scattermapbox"
        },
        {
         "lat": [
          52.0117119816968,
          51.105841708201
         ],
         "line": {
          "color": "darkseagreen",
          "width": 3
         },
         "lon": [
          4.14746304420704,
          0.199390683324611
         ],
         "mode": "lines",
         "opacity": 0.8,
         "type": "scattermapbox"
        },
        {
         "lat": [
          53.3611537601101,
          52.428325
         ],
         "line": {
          "color": "darkseagreen",
          "width": 3
         },
         "lon": [
          -6.41686124988195,
          -3.840462
         ],
         "mode": "lines",
         "opacity": 0.8,
         "type": "scattermapbox"
        },
        {
         "lat": [
          51.2436971677884,
          51.105841708201
         ],
         "line": {
          "color": "darkseagreen",
          "width": 3
         },
         "lon": [
          3.21666864694001,
          0.199390683324611
         ],
         "mode": "lines",
         "opacity": 0.8,
         "type": "scattermapbox"
        },
        {
         "lat": [
          49.1666487447698,
          51.105841708201
         ],
         "line": {
          "color": "darkseagreen",
          "width": 3
         },
         "lon": [
          -0.354771504483303,
          0.199390683324611
         ],
         "mode": "lines",
         "opacity": 0.8,
         "type": "scattermapbox"
        },
        {
         "lat": [
          59.5229846001249,
          54.95238
         ],
         "line": {
          "color": "darkseagreen",
          "width": 3
         },
         "lon": [
          6.65313650376894,
          -1.719924
         ],
         "mode": "lines",
         "opacity": 0.8,
         "type": "scattermapbox"
        },
        {
         "lat": [
          50.9701199883886,
          51.105841708201
         ],
         "line": {
          "color": "darkseagreen",
          "width": 3
         },
         "lon": [
          1.90732913740976,
          0.199390683324611
         ],
         "mode": "lines",
         "opacity": 0.8,
         "type": "scattermapbox"
        },
        {
         "lat": [
          54.95238,
          54.5490229241779
         ],
         "line": {
          "color": "rosybrown",
          "width": 5.769782627733628
         },
         "lon": [
          -1.719924,
          -3.12346413890583
         ],
         "mode": "lines",
         "opacity": 0.8,
         "type": "scattermapbox"
        },
        {
         "lat": [
          54.5490229241779,
          54.0268218679253
         ],
         "line": {
          "color": "rosybrown",
          "width": 8.8207659872136
         },
         "lon": [
          -3.12346413890583,
          -0.825877336331781
         ],
         "mode": "lines",
         "opacity": 0.8,
         "type": "scattermapbox"
        },
        {
         "lat": [
          54.5490229241779,
          52.5654460663373
         ],
         "line": {
          "color": "rosybrown",
          "width": 16.051527268471602
         },
         "lon": [
          -3.12346413890583,
          -2.38077046867501
         ],
         "mode": "lines",
         "opacity": 0.8,
         "type": "scattermapbox"
        },
        {
         "lat": [
          54.0268218679253,
          54.95238
         ],
         "line": {
          "color": "rosybrown",
          "width": 11.476256910864748
         },
         "lon": [
          -0.825877336331781,
          -1.719924
         ],
         "mode": "lines",
         "opacity": 0.8,
         "type": "scattermapbox"
        },
        {
         "lat": [
          53.1340281676242,
          54.0268218679253
         ],
         "line": {
          "color": "rosybrown",
          "width": 17.950151496009887
         },
         "lon": [
          -0.464703901832944,
          -0.825877336331781
         ],
         "mode": "lines",
         "opacity": 0.8,
         "type": "scattermapbox"
        },
        {
         "lat": [
          52.5654460663373,
          53.1340281676242
         ],
         "line": {
          "color": "rosybrown",
          "width": 9.93485625634814
         },
         "lon": [
          -2.38077046867501,
          -0.464703901832944
         ],
         "mode": "lines",
         "opacity": 0.8,
         "type": "scattermapbox"
        },
        {
         "lat": [
          52.3963072352992,
          53.1340281676242
         ],
         "line": {
          "color": "rosybrown",
          "width": 12.29841983314841
         },
         "lon": [
          0.762207582337969,
          -0.464703901832944
         ],
         "mode": "lines",
         "opacity": 0.8,
         "type": "scattermapbox"
        },
        {
         "lat": [
          51.4690178322752,
          51.105841708201
         ],
         "line": {
          "color": "rosybrown",
          "width": 6.870630905777543
         },
         "lon": [
          -0.170146468884657,
          0.199390683324611
         ],
         "mode": "lines",
         "opacity": 0.8,
         "type": "scattermapbox"
        },
        {
         "lat": [
          51.4690178322752,
          52.3963072352992
         ],
         "line": {
          "color": "rosybrown",
          "width": 5.620706955798582
         },
         "lon": [
          -0.170146468884657,
          0.762207582337969
         ],
         "mode": "lines",
         "opacity": 0.8,
         "type": "scattermapbox"
        },
        {
         "lat": [
          51.105841708201,
          50.768088
         ],
         "line": {
          "color": "rosybrown",
          "width": 7.294880599765265
         },
         "lon": [
          0.199390683324611,
          -3.673391
         ],
         "mode": "lines",
         "opacity": 0.8,
         "type": "scattermapbox"
        },
        {
         "lat": [
          51.105841708201,
          53.1340281676242
         ],
         "line": {
          "color": "rosybrown",
          "width": 12.646376706510562
         },
         "lon": [
          0.199390683324611,
          -0.464703901832944
         ],
         "mode": "lines",
         "opacity": 0.8,
         "type": "scattermapbox"
        },
        {
         "lat": [
          50.768088,
          52.5654460663373
         ],
         "line": {
          "color": "rosybrown",
          "width": 14.238586596058196
         },
         "lon": [
          -3.673391,
          -2.38077046867501
         ],
         "mode": "lines",
         "opacity": 0.8,
         "type": "scattermapbox"
        },
        {
         "lat": [
          52.428325,
          52.5654460663373
         ],
         "line": {
          "color": "rosybrown",
          "width": 13.308215435556459
         },
         "lon": [
          -3.840462,
          -2.38077046867501
         ],
         "mode": "lines",
         "opacity": 0.8,
         "type": "scattermapbox"
        },
        {
         "lat": [
          52.428325,
          54.5490229241779
         ],
         "line": {
          "color": "rosybrown",
          "width": 11.497917068685492
         },
         "lon": [
          -3.840462,
          -3.12346413890583
         ],
         "mode": "lines",
         "opacity": 0.8,
         "type": "scattermapbox"
        },
        {
         "lat": [
          56.768073,
          54.95238
         ],
         "line": {
          "color": "rosybrown",
          "width": 17.603221427472103
         },
         "lon": [
          -3.902334,
          -1.719924
         ],
         "mode": "lines",
         "opacity": 0.8,
         "type": "scattermapbox"
        },
        {
         "lat": [
          56.768073,
          54.5490229241779
         ],
         "line": {
          "color": "rosybrown",
          "width": 21.718483107159496
         },
         "lon": [
          -3.902334,
          -3.12346413890583
         ],
         "mode": "lines",
         "opacity": 0.8,
         "type": "scattermapbox"
        },
        {
         "lat": [
          54.6212023759131,
          56.768073
         ],
         "line": {
          "color": "rosybrown",
          "width": 5.838812530127051
         },
         "lon": [
          -6.07408378124666,
          -3.902334
         ],
         "mode": "lines",
         "opacity": 0.8,
         "type": "scattermapbox"
        },
        {
         "hoverinfo": "text",
         "lat": [
          51.0379808482948,
          51.558776844948895,
          52.89473938005505,
          51.1747694379947,
          50.1362452264854,
          57.237682300062446,
          51.0379808482948
         ],
         "lon": [
          1.0533599103671856,
          2.1734268637658256,
          -5.128661624940975,
          1.7080296651323104,
          -0.07769041057934602,
          2.4666062518844702,
          1.0533599103671856
         ],
         "marker": {
          "opacity": 0
         },
         "mode": "markers",
         "text": [
          "Link INTFR",
          "Link INTNED",
          "Link INTEW",
          "Link INTNEM",
          "Link INTIFA2",
          "Link INTNSL",
          "Link INTELEC"
         ],
         "type": "scattermapbox"
        },
        {
         "hoverinfo": "text",
         "lat": [
          54.75070146208895,
          54.2879223960516,
          53.5572344952576,
          54.48960093396265,
          53.58042501777475,
          52.84973711698075,
          52.7651677014617,
          51.2874297702381,
          51.932662533787195,
          50.936964854100495,
          52.1199349379126,
          51.666767033168654,
          52.49688553316865,
          53.48867396208895,
          55.860226499999996,
          55.658547962088946,
          55.69463768795655
         ],
         "lon": [
          -2.421694069452915,
          -1.9746707376188055,
          -2.75211730379042,
          -1.2729006681658905,
          -0.6452906190823625,
          -1.422737185253977,
          0.1487518402525125,
          0.01462210721997699,
          0.296030556726656,
          -1.7370001583376946,
          -0.1326566092541665,
          -3.0270807343375052,
          -3.1106162343375052,
          -3.481963069452915,
          -2.811129,
          -3.5128990694529154,
          -4.98820889062333
         ],
         "marker": {
          "opacity": 0
         },
         "mode": "markers",
         "text": [
          "Line EN_NorthEast_EN_NorthWest",
          "Line EN_NorthWest_EN_Yorkshire",
          "Line EN_NorthWest_EN_WestMidlands",
          "Line EN_Yorkshire_EN_NorthEast",
          "Line EN_EastMidlands_EN_Yorkshire",
          "Line EN_WestMidlands_EN_EastMidlands",
          "Line EN_East_EN_EastMidlands",
          "Line EN_London_EN_SouthEast",
          "Line EN_London_EN_East",
          "Line EN_SouthEast_EN_SouthWest",
          "Line EN_SouthEast_EN_EastMidlands",
          "Line EN_SouthWest_EN_WestMidlands",
          "Line EN_Wales_EN_WestMidlands",
          "Line EN_Wales_EN_NorthWest",
          "Line Scotland_EN_NorthEast",
          "Line Scotland_EN_NorthWest",
          "Line NorthernIreland_Scotland"
         ],
         "type": "scattermapbox"
        },
        {
         "hoverinfo": "text",
         "lat": [
          54.95238,
          54.5490229241779,
          54.0268218679253,
          53.1340281676242,
          52.5654460663373,
          52.3963072352992,
          51.4690178322752,
          51.105841708201,
          50.768088,
          52.428325,
          56.768073,
          54.6212023759131,
          50.9701199883886,
          52.0117119816968,
          53.3611537601101,
          51.2436971677884,
          49.1666487447698,
          59.5229846001249
         ],
         "lon": [
          -1.719924,
          -3.12346413890583,
          -0.825877336331781,
          -0.464703901832944,
          -2.38077046867501,
          0.762207582337969,
          -0.170146468884657,
          0.199390683324611,
          -3.673391,
          -3.840462,
          -3.902334,
          -6.07408378124666,
          1.90732913740976,
          4.14746304420704,
          -6.41686124988195,
          3.21666864694001,
          -0.354771504483303,
          6.65313650376894
         ],
         "marker": {
          "color": "cadetblue",
          "size": [
           15.495084666622128,
           42.01766323428118,
           31.762507958111684,
           28.569419831048055,
           32.9885244088648,
           36.1777555750972,
           52.53913887934016,
           52.196876886052536,
           32.479210714918665,
           20.732147302134962,
           33.90818343878301,
           10.866224394002861,
           0,
           0,
           0,
           0,
           0,
           0
          ]
         },
         "mode": "markers",
         "opacity": 1,
         "text": [
          "Bus EN_NorthEast",
          "Bus EN_NorthWest",
          "Bus EN_Yorkshire",
          "Bus EN_EastMidlands",
          "Bus EN_WestMidlands",
          "Bus EN_East",
          "Bus EN_London",
          "Bus EN_SouthEast",
          "Bus EN_SouthWest",
          "Bus EN_Wales",
          "Bus Scotland",
          "Bus NorthernIreland",
          "Bus France",
          "Bus Netherlands",
          "Bus Ireland",
          "Bus Belgium",
          "Bus France2",
          "Bus Norway"
         ],
         "type": "scattermapbox"
        }
       ],
       "layout": {
        "annotations": [
         {
          "align": "left",
          "font": {
           "color": "grey",
           "family": "Work Sans, sans-serif",
           "size": 11
          },
          "showarrow": false,
          "text": "<i>Demand concentrated in South East, with wind generation focused in the North.</i>",
          "visible": true,
          "x": 0,
          "xanchor": "left",
          "xref": "paper",
          "y": 1.05,
          "yanchor": "top",
          "yref": "paper"
         },
         {
          "align": "left",
          "font": {
           "color": "grey",
           "family": "Work Sans, sans-serif",
           "size": 11
          },
          "showarrow": false,
          "text": "<i>Sources: Ember, CC BY 4.0.</i>",
          "visible": true,
          "x": 0,
          "xanchor": "left",
          "xref": "paper",
          "y": -0.05,
          "yanchor": "top",
          "yref": "paper"
         }
        ],
        "font": {
         "color": "black",
         "family": "Work Sans, sans-serif",
         "size": 13
        },
        "height": 500,
        "hovermode": "closest",
        "mapbox": {
         "center": {
          "lat": 54.5490229241779,
          "lon": -3.12346413890583
         },
         "style": "carto-positron",
         "zoom": 4
        },
        "margin": {
         "b": 50,
         "l": 50,
         "r": 50,
         "t": 80
        },
        "plot_bgcolor": "white",
        "showlegend": false,
        "template": {
         "data": {
          "bar": [
           {
            "error_x": {
             "color": "#2a3f5f"
            },
            "error_y": {
             "color": "#2a3f5f"
            },
            "marker": {
             "line": {
              "color": "#E5ECF6",
              "width": 0.5
             }
            },
            "type": "bar"
           }
          ],
          "barpolar": [
           {
            "marker": {
             "line": {
              "color": "#E5ECF6",
              "width": 0.5
             }
            },
            "type": "barpolar"
           }
          ],
          "carpet": [
           {
            "aaxis": {
             "endlinecolor": "#2a3f5f",
             "gridcolor": "white",
             "linecolor": "white",
             "minorgridcolor": "white",
             "startlinecolor": "#2a3f5f"
            },
            "baxis": {
             "endlinecolor": "#2a3f5f",
             "gridcolor": "white",
             "linecolor": "white",
             "minorgridcolor": "white",
             "startlinecolor": "#2a3f5f"
            },
            "type": "carpet"
           }
          ],
          "choropleth": [
           {
            "colorbar": {
             "outlinewidth": 0,
             "ticks": ""
            },
            "type": "choropleth"
           }
          ],
          "contour": [
           {
            "colorbar": {
             "outlinewidth": 0,
             "ticks": ""
            },
            "colorscale": [
             [
              0,
              "#0d0887"
             ],
             [
              0.1111111111111111,
              "#46039f"
             ],
             [
              0.2222222222222222,
              "#7201a8"
             ],
             [
              0.3333333333333333,
              "#9c179e"
             ],
             [
              0.4444444444444444,
              "#bd3786"
             ],
             [
              0.5555555555555556,
              "#d8576b"
             ],
             [
              0.6666666666666666,
              "#ed7953"
             ],
             [
              0.7777777777777778,
              "#fb9f3a"
             ],
             [
              0.8888888888888888,
              "#fdca26"
             ],
             [
              1,
              "#f0f921"
             ]
            ],
            "type": "contour"
           }
          ],
          "contourcarpet": [
           {
            "colorbar": {
             "outlinewidth": 0,
             "ticks": ""
            },
            "type": "contourcarpet"
           }
          ],
          "heatmap": [
           {
            "colorbar": {
             "outlinewidth": 0,
             "ticks": ""
            },
            "colorscale": [
             [
              0,
              "#0d0887"
             ],
             [
              0.1111111111111111,
              "#46039f"
             ],
             [
              0.2222222222222222,
              "#7201a8"
             ],
             [
              0.3333333333333333,
              "#9c179e"
             ],
             [
              0.4444444444444444,
              "#bd3786"
             ],
             [
              0.5555555555555556,
              "#d8576b"
             ],
             [
              0.6666666666666666,
              "#ed7953"
             ],
             [
              0.7777777777777778,
              "#fb9f3a"
             ],
             [
              0.8888888888888888,
              "#fdca26"
             ],
             [
              1,
              "#f0f921"
             ]
            ],
            "type": "heatmap"
           }
          ],
          "heatmapgl": [
           {
            "colorbar": {
             "outlinewidth": 0,
             "ticks": ""
            },
            "colorscale": [
             [
              0,
              "#0d0887"
             ],
             [
              0.1111111111111111,
              "#46039f"
             ],
             [
              0.2222222222222222,
              "#7201a8"
             ],
             [
              0.3333333333333333,
              "#9c179e"
             ],
             [
              0.4444444444444444,
              "#bd3786"
             ],
             [
              0.5555555555555556,
              "#d8576b"
             ],
             [
              0.6666666666666666,
              "#ed7953"
             ],
             [
              0.7777777777777778,
              "#fb9f3a"
             ],
             [
              0.8888888888888888,
              "#fdca26"
             ],
             [
              1,
              "#f0f921"
             ]
            ],
            "type": "heatmapgl"
           }
          ],
          "histogram": [
           {
            "marker": {
             "colorbar": {
              "outlinewidth": 0,
              "ticks": ""
             }
            },
            "type": "histogram"
           }
          ],
          "histogram2d": [
           {
            "colorbar": {
             "outlinewidth": 0,
             "ticks": ""
            },
            "colorscale": [
             [
              0,
              "#0d0887"
             ],
             [
              0.1111111111111111,
              "#46039f"
             ],
             [
              0.2222222222222222,
              "#7201a8"
             ],
             [
              0.3333333333333333,
              "#9c179e"
             ],
             [
              0.4444444444444444,
              "#bd3786"
             ],
             [
              0.5555555555555556,
              "#d8576b"
             ],
             [
              0.6666666666666666,
              "#ed7953"
             ],
             [
              0.7777777777777778,
              "#fb9f3a"
             ],
             [
              0.8888888888888888,
              "#fdca26"
             ],
             [
              1,
              "#f0f921"
             ]
            ],
            "type": "histogram2d"
           }
          ],
          "histogram2dcontour": [
           {
            "colorbar": {
             "outlinewidth": 0,
             "ticks": ""
            },
            "colorscale": [
             [
              0,
              "#0d0887"
             ],
             [
              0.1111111111111111,
              "#46039f"
             ],
             [
              0.2222222222222222,
              "#7201a8"
             ],
             [
              0.3333333333333333,
              "#9c179e"
             ],
             [
              0.4444444444444444,
              "#bd3786"
             ],
             [
              0.5555555555555556,
              "#d8576b"
             ],
             [
              0.6666666666666666,
              "#ed7953"
             ],
             [
              0.7777777777777778,
              "#fb9f3a"
             ],
             [
              0.8888888888888888,
              "#fdca26"
             ],
             [
              1,
              "#f0f921"
             ]
            ],
            "type": "histogram2dcontour"
           }
          ],
          "mesh3d": [
           {
            "colorbar": {
             "outlinewidth": 0,
             "ticks": ""
            },
            "type": "mesh3d"
           }
          ],
          "parcoords": [
           {
            "line": {
             "colorbar": {
              "outlinewidth": 0,
              "ticks": ""
             }
            },
            "type": "parcoords"
           }
          ],
          "pie": [
           {
            "automargin": true,
            "type": "pie"
           }
          ],
          "scatter": [
           {
            "marker": {
             "colorbar": {
              "outlinewidth": 0,
              "ticks": ""
             }
            },
            "type": "scatter"
           }
          ],
          "scatter3d": [
           {
            "line": {
             "colorbar": {
              "outlinewidth": 0,
              "ticks": ""
             }
            },
            "marker": {
             "colorbar": {
              "outlinewidth": 0,
              "ticks": ""
             }
            },
            "type": "scatter3d"
           }
          ],
          "scattercarpet": [
           {
            "marker": {
             "colorbar": {
              "outlinewidth": 0,
              "ticks": ""
             }
            },
            "type": "scattercarpet"
           }
          ],
          "scattergeo": [
           {
            "marker": {
             "colorbar": {
              "outlinewidth": 0,
              "ticks": ""
             }
            },
            "type": "scattergeo"
           }
          ],
          "scattergl": [
           {
            "marker": {
             "colorbar": {
              "outlinewidth": 0,
              "ticks": ""
             }
            },
            "type": "scattergl"
           }
          ],
          "scattermapbox": [
           {
            "marker": {
             "colorbar": {
              "outlinewidth": 0,
              "ticks": ""
             }
            },
            "type": "scattermapbox"
           }
          ],
          "scatterpolar": [
           {
            "marker": {
             "colorbar": {
              "outlinewidth": 0,
              "ticks": ""
             }
            },
            "type": "scatterpolar"
           }
          ],
          "scatterpolargl": [
           {
            "marker": {
             "colorbar": {
              "outlinewidth": 0,
              "ticks": ""
             }
            },
            "type": "scatterpolargl"
           }
          ],
          "scatterternary": [
           {
            "marker": {
             "colorbar": {
              "outlinewidth": 0,
              "ticks": ""
             }
            },
            "type": "scatterternary"
           }
          ],
          "surface": [
           {
            "colorbar": {
             "outlinewidth": 0,
             "ticks": ""
            },
            "colorscale": [
             [
              0,
              "#0d0887"
             ],
             [
              0.1111111111111111,
              "#46039f"
             ],
             [
              0.2222222222222222,
              "#7201a8"
             ],
             [
              0.3333333333333333,
              "#9c179e"
             ],
             [
              0.4444444444444444,
              "#bd3786"
             ],
             [
              0.5555555555555556,
              "#d8576b"
             ],
             [
              0.6666666666666666,
              "#ed7953"
             ],
             [
              0.7777777777777778,
              "#fb9f3a"
             ],
             [
              0.8888888888888888,
              "#fdca26"
             ],
             [
              1,
              "#f0f921"
             ]
            ],
            "type": "surface"
           }
          ],
          "table": [
           {
            "cells": {
             "fill": {
              "color": "#EBF0F8"
             },
             "line": {
              "color": "white"
             }
            },
            "header": {
             "fill": {
              "color": "#C8D4E3"
             },
             "line": {
              "color": "white"
             }
            },
            "type": "table"
           }
          ]
         },
         "layout": {
          "annotationdefaults": {
           "arrowcolor": "#2a3f5f",
           "arrowhead": 0,
           "arrowwidth": 1
          },
          "autotypenumbers": "strict",
          "coloraxis": {
           "colorbar": {
            "outlinewidth": 0,
            "ticks": ""
           }
          },
          "colorscale": {
           "diverging": [
            [
             0,
             "#8e0152"
            ],
            [
             0.1,
             "#c51b7d"
            ],
            [
             0.2,
             "#de77ae"
            ],
            [
             0.3,
             "#f1b6da"
            ],
            [
             0.4,
             "#fde0ef"
            ],
            [
             0.5,
             "#f7f7f7"
            ],
            [
             0.6,
             "#e6f5d0"
            ],
            [
             0.7,
             "#b8e186"
            ],
            [
             0.8,
             "#7fbc41"
            ],
            [
             0.9,
             "#4d9221"
            ],
            [
             1,
             "#276419"
            ]
           ],
           "sequential": [
            [
             0,
             "#0d0887"
            ],
            [
             0.1111111111111111,
             "#46039f"
            ],
            [
             0.2222222222222222,
             "#7201a8"
            ],
            [
             0.3333333333333333,
             "#9c179e"
            ],
            [
             0.4444444444444444,
             "#bd3786"
            ],
            [
             0.5555555555555556,
             "#d8576b"
            ],
            [
             0.6666666666666666,
             "#ed7953"
            ],
            [
             0.7777777777777778,
             "#fb9f3a"
            ],
            [
             0.8888888888888888,
             "#fdca26"
            ],
            [
             1,
             "#f0f921"
            ]
           ],
           "sequentialminus": [
            [
             0,
             "#0d0887"
            ],
            [
             0.1111111111111111,
             "#46039f"
            ],
            [
             0.2222222222222222,
             "#7201a8"
            ],
            [
             0.3333333333333333,
             "#9c179e"
            ],
            [
             0.4444444444444444,
             "#bd3786"
            ],
            [
             0.5555555555555556,
             "#d8576b"
            ],
            [
             0.6666666666666666,
             "#ed7953"
            ],
            [
             0.7777777777777778,
             "#fb9f3a"
            ],
            [
             0.8888888888888888,
             "#fdca26"
            ],
            [
             1,
             "#f0f921"
            ]
           ]
          },
          "colorway": [
           "#636efa",
           "#EF553B",
           "#00cc96",
           "#ab63fa",
           "#FFA15A",
           "#19d3f3",
           "#FF6692",
           "#B6E880",
           "#FF97FF",
           "#FECB52"
          ],
          "font": {
           "color": "#2a3f5f"
          },
          "geo": {
           "bgcolor": "white",
           "lakecolor": "white",
           "landcolor": "#E5ECF6",
           "showlakes": true,
           "showland": true,
           "subunitcolor": "white"
          },
          "hoverlabel": {
           "align": "left"
          },
          "hovermode": "closest",
          "mapbox": {
           "style": "light"
          },
          "paper_bgcolor": "white",
          "plot_bgcolor": "#E5ECF6",
          "polar": {
           "angularaxis": {
            "gridcolor": "white",
            "linecolor": "white",
            "ticks": ""
           },
           "bgcolor": "#E5ECF6",
           "radialaxis": {
            "gridcolor": "white",
            "linecolor": "white",
            "ticks": ""
           }
          },
          "scene": {
           "xaxis": {
            "backgroundcolor": "#E5ECF6",
            "gridcolor": "white",
            "gridwidth": 2,
            "linecolor": "white",
            "showbackground": true,
            "ticks": "",
            "zerolinecolor": "white"
           },
           "yaxis": {
            "backgroundcolor": "#E5ECF6",
            "gridcolor": "white",
            "gridwidth": 2,
            "linecolor": "white",
            "showbackground": true,
            "ticks": "",
            "zerolinecolor": "white"
           },
           "zaxis": {
            "backgroundcolor": "#E5ECF6",
            "gridcolor": "white",
            "gridwidth": 2,
            "linecolor": "white",
            "showbackground": true,
            "ticks": "",
            "zerolinecolor": "white"
           }
          },
          "shapedefaults": {
           "line": {
            "color": "#2a3f5f"
           }
          },
          "ternary": {
           "aaxis": {
            "gridcolor": "white",
            "linecolor": "white",
            "ticks": ""
           },
           "baxis": {
            "gridcolor": "white",
            "linecolor": "white",
            "ticks": ""
           },
           "bgcolor": "#E5ECF6",
           "caxis": {
            "gridcolor": "white",
            "linecolor": "white",
            "ticks": ""
           }
          },
          "title": {
           "x": 0.05
          },
          "xaxis": {
           "automargin": true,
           "gridcolor": "white",
           "linecolor": "white",
           "ticks": "",
           "title": {
            "standoff": 15
           },
           "zerolinecolor": "white",
           "zerolinewidth": 2
          },
          "yaxis": {
           "automargin": true,
           "gridcolor": "white",
           "linecolor": "white",
           "ticks": "",
           "title": {
            "standoff": 15
           },
           "zerolinecolor": "white",
           "zerolinewidth": 2
          }
         }
        },
        "title": {
         "text": "<b>Load distribution per line and demand per node</b>"
        },
        "width": 800
       }
      }
     },
     "metadata": {}
    }
   ],
   "metadata": {}
  },
  {
   "cell_type": "code",
   "execution_count": 36,
   "source": [
    "domestic_generation_by_fuel_yearly = generation_by_fuel_yearly\r\n",
    "domestic_generation_by_fuel_yearly=domestic_generation_by_fuel_yearly.drop('CBF')\r\n",
    "generation_by_fuel_yearly_percentage = domestic_generation_by_fuel_yearly.div(domestic_generation_by_fuel_yearly.sum(), axis=0)\r\n",
    "generation_by_fuel_yearly_percentage = generation_by_fuel_yearly_percentage.round(3)\r\n",
    "generation_by_fuel_yearly_percentage = (generation_by_fuel_yearly_percentage * 100).astype(str) + '%'\r\n",
    "generation_by_fuel_yearly_percentage\r\n"
   ],
   "outputs": [
    {
     "output_type": "execute_result",
     "data": {
      "text/plain": [
       "carrier\n",
       "BECCS                           1.3%\n",
       "Biogas                          1.3%\n",
       "Biomass          3.5000000000000004%\n",
       "DSR                             0.0%\n",
       "Gas              2.8000000000000003%\n",
       "Gas CCS                         1.2%\n",
       "Hard coal                       0.0%\n",
       "Hydro            0.7000000000000001%\n",
       "Hydrogen                        3.0%\n",
       "Nuclear                         4.7%\n",
       "Oil                             0.0%\n",
       "PV               11.200000000000001%\n",
       "Wind                           22.0%\n",
       "Wind offshore    48.199999999999996%\n",
       "dtype: object"
      ]
     },
     "metadata": {},
     "execution_count": 36
    }
   ],
   "metadata": {}
  },
  {
   "cell_type": "code",
   "execution_count": 35,
   "source": [
    "p_by_generator = network.generators_t.p\r\n",
    "# battery_storage = pd.DataFrame(index=network.snapshots)\r\n",
    "# battery_storage[\"Battery dispatch [MW]\"] = network.storage_units_t.p\r\n",
    "# battery_storage[\"State of charge [MWh]\"] = network.storage_units_t.state_of_charge\r\n",
    "\r\n",
    "p_by_generator.to_csv(f'p_by_generator.csv', index=True)\r\n",
    "# battery_storage.to_csv(f'battery_storage_shoppingcenter.csv', index=True)\r\n"
   ],
   "outputs": [],
   "metadata": {}
  }
 ],
 "metadata": {
  "orig_nbformat": 4,
  "language_info": {
   "name": "python",
   "version": "3.7.7",
   "mimetype": "text/x-python",
   "codemirror_mode": {
    "name": "ipython",
    "version": 3
   },
   "pygments_lexer": "ipython3",
   "nbconvert_exporter": "python",
   "file_extension": ".py"
  },
  "kernelspec": {
   "name": "python3",
   "display_name": "Python 3.7.7 64-bit ('instrat-energy-model': conda)"
  },
  "interpreter": {
   "hash": "eca4985000c6ac3343c7ce1613e5b871e774106b7f73d15bd2b3794a42a8f709"
  }
 },
 "nbformat": 4,
 "nbformat_minor": 2
}