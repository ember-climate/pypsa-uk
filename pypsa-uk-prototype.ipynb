{
 "cells": [
  {
   "cell_type": "code",
   "execution_count": 1,
   "metadata": {},
   "outputs": [],
   "source": [
    "import numpy as np\n",
    "import pandas as pd\n",
    "import pypsa\n",
    "import highspy \n",
    "\n",
    "%matplotlib inline"
   ]
  },
  {
   "cell_type": "code",
   "execution_count": 2,
   "metadata": {},
   "outputs": [],
   "source": [
    "DATA_FILE = 'pypsa-eu-uk-2030.xlsx'"
   ]
  },
  {
   "cell_type": "code",
   "execution_count": 3,
   "metadata": {},
   "outputs": [],
   "source": [
    "load = pd.read_excel(DATA_FILE, sheet_name='load', parse_dates=['t'], index_col='t',usecols='A:AK').dropna(axis=1, how='all').dropna()\n",
    "pv = pd.read_excel(DATA_FILE, sheet_name='pv', parse_dates=['t'], index_col='t',usecols='A:AK').dropna(axis=1, how='all').dropna()\n",
    "wind = pd.read_excel(DATA_FILE, sheet_name='wind', parse_dates=['t'], index_col='t',usecols='A:AK').dropna(axis=1, how='all').dropna()\n",
    "wind_offshore = pd.read_excel(DATA_FILE, sheet_name='wind_offshore', parse_dates=['t'], index_col='t',usecols='A:AK').dropna(axis=1, how='all').dropna()\n",
    "ror = pd.read_excel(DATA_FILE, sheet_name='ror', parse_dates=['t'], index_col='t',usecols='A:AK').dropna(axis=1, how='all').dropna()\n",
    "inflow = pd.read_excel(DATA_FILE, sheet_name='inflow', parse_dates=['t'], index_col='t',usecols='A:AK').dropna(axis=1, how='all').dropna()\n",
    "chp = pd.read_excel(DATA_FILE, sheet_name='chp', parse_dates=['t'], index_col='t').dropna(axis=1, how='all').dropna()\n",
    "chp_bio = pd.read_excel(DATA_FILE, sheet_name='chp_bio', parse_dates=['t'], index_col='t').dropna(axis=1, how='all').dropna()\n",
    "\n",
    "buses = pd.read_excel(DATA_FILE, sheet_name='buses', index_col=0, usecols='A:G')\n",
    "cbf_buses = pd.read_excel(DATA_FILE, sheet_name='cbf_buses', index_col=0, usecols='A:F')\n",
    "lines = pd.read_excel(DATA_FILE, sheet_name='lines', index_col='name').dropna(axis=1, how='all').dropna()\n",
    "links = pd.read_excel(DATA_FILE, sheet_name='links', index_col=0, usecols='A:G').dropna(axis=1, how='all').dropna()\n",
    "gen_pv = pd.read_excel(DATA_FILE, sheet_name='gen_pv', index_col=0, usecols='A:E')\n",
    "gen_wind = pd.read_excel(DATA_FILE, sheet_name='gen_wind', index_col=0, usecols='A:E')\n",
    "gen_wind_offshore = pd.read_excel(DATA_FILE, sheet_name='gen_wind_offshore', index_col=0, usecols='A:E')\n",
    "gen_gas = pd.read_excel(DATA_FILE, sheet_name='gen_gas', index_col=0, usecols='A:J')\n",
    "gen_oil = pd.read_excel(DATA_FILE, sheet_name='gen_oil', index_col=0, usecols='A:J')\n",
    "gen_coal = pd.read_excel(DATA_FILE, sheet_name='gen_coal', index_col=0,usecols='A:J')\n",
    "gen_nuclear = pd.read_excel(DATA_FILE, sheet_name='gen_nuclear', index_col=0, usecols='A:I')\n",
    "gen_biomass = pd.read_excel(DATA_FILE, sheet_name='gen_biomass', index_col=0, usecols='A:G')\n",
    "gen_biogas = pd.read_excel(DATA_FILE, sheet_name='gen_biogas', index_col=0, usecols='A:G')\n",
    "gen_ror = pd.read_excel(DATA_FILE, sheet_name='gen_ror', index_col=0, usecols='A:E')\n",
    "gen_reservoir = pd.read_excel(DATA_FILE, sheet_name='gen_reservoir', index_col=0, usecols='A:E')\n",
    "gen_other_res = pd.read_excel(DATA_FILE, sheet_name='gen_other_res', index_col=0, usecols='A:F')\n",
    "gen_dsr = pd.read_excel(DATA_FILE, sheet_name='gen_dsr', index_col=0, usecols='A:F')\n",
    "gen_gas_chp = pd.read_excel(DATA_FILE, sheet_name='gen_gas_chp', index_col=0, usecols='A:J')\n",
    "gen_coal_chp = pd.read_excel(DATA_FILE, sheet_name='gen_coal_chp', index_col=0, usecols='A:J')\n",
    "gen_oil_chp = pd.read_excel(DATA_FILE, sheet_name='gen_oil_chp', index_col=0, usecols='A:G')\n",
    "gen_res_chp = pd.read_excel(DATA_FILE, sheet_name='gen_res_chp', index_col=0, usecols='A:G')\n",
    "gen_bio_chp = pd.read_excel(DATA_FILE, sheet_name='gen_bio_chp', index_col=0, usecols='A:G')\n",
    "gen_cbf = pd.read_excel(DATA_FILE, sheet_name='gen_cbf', index_col=0, usecols='A:E')\n",
    "st_hps = pd.read_excel(DATA_FILE, sheet_name='st_hps', index_col=0, usecols='A:I')\n",
    "st_battery = pd.read_excel(DATA_FILE, sheet_name='st_battery', index_col=0, usecols='A:I')\n",
    "st_other = pd.read_excel(DATA_FILE, sheet_name='st_other', index_col=0, usecols='A:I')"
   ]
  },
  {
   "cell_type": "code",
   "execution_count": 4,
   "metadata": {},
   "outputs": [],
   "source": [
    "gas_chp_timeseries=pd.DataFrame(chp,columns=gen_gas_chp.index)\n",
    "coal_chp_timeseries=pd.DataFrame(chp,columns=gen_coal_chp.index)\n",
    "oil_chp_timeseries=pd.DataFrame(chp,columns=gen_oil_chp.index)\n",
    "res_chp_timeseries=pd.DataFrame(chp,columns=gen_res_chp.index)\n",
    "\n",
    "for col in gas_chp_timeseries.columns:\n",
    "    gas_chp_timeseries[col].values[:] = chp['chp']\n",
    "\n",
    "for col in coal_chp_timeseries.columns:\n",
    "    coal_chp_timeseries[col].values[:] = chp['chp']\n",
    "\n",
    "for col in oil_chp_timeseries.columns:\n",
    "    oil_chp_timeseries[col].values[:] = chp['chp']\n",
    "\n",
    "for col in res_chp_timeseries.columns:\n",
    "    res_chp_timeseries[col].values[:] = chp['chp']\n",
    "  "
   ]
  },
  {
   "cell_type": "code",
   "execution_count": 5,
   "metadata": {},
   "outputs": [
    {
     "data": {
      "text/plain": [
       "Index(['EN_NorthEast', 'EN_NorthWest', 'EN_Yorkshire', 'EN_EastMidlands',\n",
       "       'EN_WestMidlands', 'EN_East', 'EN_London', 'EN_SouthEast',\n",
       "       'EN_SouthWest', 'EN_Wales', 'Scotland', 'NorthernIreland', 'Austria',\n",
       "       'Belgium', 'Bulgaria', 'Croatia', 'Czechia', 'Denmark', 'Estonia',\n",
       "       'Finland', 'France', 'Germany', 'Greece', 'Hungary', 'Ireland', 'Italy',\n",
       "       'Latvia', 'Lithuania', 'Netherlands', 'Poland', 'Portugal', 'Romania',\n",
       "       'Slovakia', 'Slovenia', 'Spain', 'Sweden'],\n",
       "      dtype='object')"
      ]
     },
     "execution_count": 5,
     "metadata": {},
     "output_type": "execute_result"
    }
   ],
   "source": [
    "network = pypsa.Network()\n",
    "network.set_snapshots(load.index)\n",
    "\n",
    "network.import_components_from_dataframe(buses, 'Bus')\n",
    "network.import_components_from_dataframe(cbf_buses, 'Bus')\n",
    "\n",
    "network.import_components_from_dataframe(lines, 'Line')\n",
    "network.lines['s_nom_extendable'] = True  \n",
    "\n",
    "network.madd(\"Link\", links.index,\n",
    "             bus0=links['bus0'].tolist(), bus1= links['bus1'].tolist(),\n",
    "             p_nom=links['p_nom'].tolist())\n",
    "\n",
    "network.madd(\"Generator\", gen_cbf.index, suffix='_CBF', carrier='CBF',\n",
    "             bus=gen_cbf.index.tolist(), p_nom=gen_cbf['p_nom'].to_list(), p_nom_extendable=False, \n",
    "             marginal_cost=gen_cbf['marginal_cost'].to_list())\n",
    "\n",
    "dict_carriers = {\n",
    "    'Lignite': 0.334, 'Hard coal': 0.354, 'Gas': 0.187, 'Gas CCS': 0, 'Oil': 0.334, 'Hydrogen': 0, 'Biomass': 0.403, 'Biogas': 0.178, 'BECCS': 0,\n",
    "    'Geothermal': 0.026, 'Wind': 0, 'Wind offshore': 0, 'PV': 0, 'HPS': 0, 'Hydro': 0, 'Other RES': 0, 'CBF': 0, 'VOLL': 0, 'Battery': 0, 'Other storage' : 0, 'Nuclear': 0\n",
    "}\n",
    "\n",
    "for carrier in dict_carriers:\n",
    "    network.add(\"Carrier\", name=carrier, co2_emissions=dict_carriers[carrier])\n",
    "\n",
    "network.madd(\"Load\", load.columns, bus=load.columns, p_set=load)"
   ]
  },
  {
   "cell_type": "code",
   "execution_count": 6,
   "metadata": {},
   "outputs": [
    {
     "data": {
      "text/plain": [
       "Index(['EN_NorthEast_OtherStorage', 'EN_NorthWest_OtherStorage',\n",
       "       'EN_Yorkshire_OtherStorage', 'EN_EastMidlands_OtherStorage',\n",
       "       'EN_WestMidlands_OtherStorage', 'EN_East_OtherStorage',\n",
       "       'EN_London_OtherStorage', 'EN_SouthEast_OtherStorage',\n",
       "       'EN_SouthWest_OtherStorage', 'EN_Wales_OtherStorage',\n",
       "       'Scotland_OtherStorage', 'NorthernIreland_OtherStorage',\n",
       "       'Bulgaria_Other storage', 'Croatia_Other storage',\n",
       "       'Czechia_Other storage', 'Estonia_Other storage',\n",
       "       'Hungary_Other storage', 'Latvia_Other storage',\n",
       "       'Lithuania_Other storage', 'Poland_Other storage',\n",
       "       'Romania_Other storage', 'Slovakia_Other storage',\n",
       "       'Slovenia_Other storage'],\n",
       "      dtype='object', name='name')"
      ]
     },
     "execution_count": 6,
     "metadata": {},
     "output_type": "execute_result"
    }
   ],
   "source": [
    "network.madd('Generator', \n",
    "      gen_pv['bus'],\n",
    "      suffix='_PV',\n",
    "      bus=gen_pv['bus'].to_list(), \n",
    "      p_nom_extendable=False, \n",
    "      p_nom=gen_pv['p_nom'].to_list(),\n",
    "      carrier='PV', \n",
    "      marginal_cost=gen_pv['marginal_cost'].to_list(), \n",
    "      p_max_pu=pv)\n",
    "\n",
    "network.madd('Generator', \n",
    "      gen_wind['bus'],\n",
    "      suffix='_Wind',\n",
    "      bus=gen_wind['bus'].to_list(), \n",
    "      p_nom_extendable=False, \n",
    "      p_nom=gen_wind['p_nom'].to_list(), \n",
    "      carrier='Wind', \n",
    "      marginal_cost=gen_wind['marginal_cost'].to_list(), \n",
    "      p_max_pu=wind)\n",
    "\n",
    "network.madd('Generator', \n",
    "      gen_wind_offshore['bus'],\n",
    "      suffix='_Wind_offshore',\n",
    "      bus=gen_wind_offshore['bus'].to_list(), \n",
    "      p_nom_extendable=False, \n",
    "      p_nom=gen_wind_offshore['p_nom'].to_list(), \n",
    "      carrier='Wind offshore', \n",
    "      marginal_cost=gen_wind_offshore['marginal_cost'].to_list(), \n",
    "      p_max_pu=wind_offshore)\n",
    "\n",
    "network.madd('Generator', \n",
    "      gen_gas.index,\n",
    "      bus=gen_gas['bus'].to_list(), \n",
    "      p_nom_extendable=False, \n",
    "      p_nom=gen_gas['p_nom'].to_list(), \n",
    "      carrier=gen_gas['carrier'].to_list(), \n",
    "      marginal_cost=gen_gas['marginal_cost'].to_list(),\n",
    "      efficiency=gen_gas['efficiency'].to_list()\n",
    "      )\n",
    "\n",
    "network.madd('Generator', \n",
    "      gen_oil.index,\n",
    "      bus=gen_oil['bus'].to_list(), \n",
    "      p_nom_extendable=False, \n",
    "      p_nom=gen_oil['p_nom'].to_list(), \n",
    "      carrier='Oil', \n",
    "      marginal_cost=gen_oil['marginal_cost'].to_list(),\n",
    "      efficiency=gen_oil['efficiency'].to_list()\n",
    "      )\n",
    "\n",
    "network.madd('Generator', \n",
    "      gen_coal.index,\n",
    "      bus=gen_coal['bus'].to_list(), \n",
    "      p_nom_extendable=False, \n",
    "      p_nom=gen_coal['p_nom'].to_list(), \n",
    "      carrier=gen_coal['carrier'].to_list(), \n",
    "      marginal_cost=gen_coal['marginal_cost'].to_list(),\n",
    "      efficiency=gen_coal['efficiency'].to_list()\n",
    "      )\n",
    "\n",
    "network.madd('Generator', \n",
    "      gen_nuclear.index,\n",
    "      bus=gen_nuclear['bus'].to_list(), \n",
    "      p_nom_extendable=False, \n",
    "      p_nom=gen_nuclear['p_nom'].to_list(), \n",
    "      carrier='Nuclear', \n",
    "      marginal_cost=gen_nuclear['marginal_cost'].to_list(),\n",
    "      efficiency=gen_nuclear['efficiency'].to_list(),\n",
    "      p_max_pu=gen_nuclear['p_max_pu'].to_list(),\n",
    "      p_min_pu=gen_nuclear['p_min_pu'].to_list()\n",
    "      )\n",
    "\n",
    "network.madd('Generator', \n",
    "      gen_biomass.index,\n",
    "      bus=gen_biomass['bus'].to_list(), \n",
    "      p_nom_extendable=False, \n",
    "      p_nom=gen_biomass['p_nom'].to_list(), \n",
    "      carrier=gen_biomass['carrier'].to_list(), \n",
    "      marginal_cost=gen_biomass['marginal_cost'].to_list(),\n",
    "      efficiency=gen_biomass['efficiency'].to_list(),\n",
    "      p_max_pu=gen_biomass['p_max_pu'].to_list()\n",
    "      )\n",
    "\n",
    "network.madd('Generator', \n",
    "      gen_biogas['bus'],\n",
    "      suffix='_Biogas',\n",
    "      bus=gen_biogas['bus'].to_list(), \n",
    "      p_nom_extendable=False, \n",
    "      p_nom=gen_biogas['p_nom'].to_list(), \n",
    "      carrier='Biogas', \n",
    "      marginal_cost=gen_biogas['marginal_cost'].to_list(),\n",
    "      efficiency=gen_biogas['efficiency'].to_list(),\n",
    "      p_max_pu=gen_biogas['p_max_pu'].to_list()\n",
    "      )\n",
    "\n",
    "network.madd('Generator', \n",
    "       gen_ror.index,\n",
    "       bus=gen_ror['bus'].to_list(), \n",
    "       p_nom_extendable=False, \n",
    "       p_nom=gen_ror['p_nom'].to_list(), \n",
    "       carrier=gen_ror['carrier'].to_list(),\n",
    "       marginal_cost=gen_ror['marginal_cost'].to_list(),\n",
    "       p_max_pu=ror\n",
    "       )\n",
    "\n",
    "network.madd('Generator', \n",
    "       gen_reservoir.index,\n",
    "       bus=gen_reservoir['bus'].to_list(), \n",
    "       p_nom_extendable=False, \n",
    "       p_nom=gen_reservoir['p_nom'].to_list(), \n",
    "       carrier=gen_reservoir['carrier'].to_list(),\n",
    "       marginal_cost=gen_reservoir['marginal_cost'].to_list(),\n",
    "       p_max_pu=inflow\n",
    "       )\n",
    "\n",
    "network.madd('Generator', \n",
    "      gen_other_res['bus'],\n",
    "      suffix='_OtherRES',\n",
    "      bus=gen_other_res['bus'].to_list(), \n",
    "      p_nom_extendable=False, \n",
    "      p_nom=gen_other_res['p_nom'].to_list(), \n",
    "      carrier='Other RES', \n",
    "      marginal_cost=gen_other_res['marginal_cost'].to_list(),\n",
    "      p_max_pu=gen_other_res['p_max_pu'].to_list()\n",
    "      )\n",
    "\n",
    "network.madd('Generator', \n",
    "      gen_dsr['bus'],\n",
    "      suffix='_DSR',\n",
    "      bus=gen_dsr['bus'].to_list(), \n",
    "      p_nom_extendable=False, \n",
    "      p_nom=50000,#gen_dsr['p_nom'].to_list(), \n",
    "      carrier='DSR', \n",
    "      marginal_cost=gen_dsr['marginal_cost'].to_list(),\n",
    "      p_max_pu=gen_dsr['p_max_pu'].to_list()\n",
    "      )\n",
    "\n",
    "network.madd('Generator', \n",
    "      gen_gas_chp.index,\n",
    "      bus=gen_gas_chp['bus'].to_list(), \n",
    "      p_nom_extendable=False, \n",
    "      p_nom=gen_gas_chp['p_nom'].to_list(), \n",
    "      carrier=gen_gas_chp['carrier'].to_list(), \n",
    "      marginal_cost=gen_gas_chp['marginal_cost'].to_list(),\n",
    "      p_max_pu=1.32*gas_chp_timeseries,\n",
    "      p_min_pu=gas_chp_timeseries,\n",
    "      efficiency=gen_gas_chp['efficiency'].to_list()\n",
    "      )\n",
    "\n",
    "network.madd('Generator', \n",
    "      gen_coal_chp.index,\n",
    "      bus=gen_coal_chp['bus'].to_list(), \n",
    "      p_nom_extendable=False, \n",
    "      p_nom=gen_coal_chp['p_nom'].to_list(), \n",
    "      carrier=gen_coal_chp['carrier'].to_list(), \n",
    "      marginal_cost=gen_coal_chp['marginal_cost'].to_list(),\n",
    "      p_max_pu=coal_chp_timeseries,\n",
    "      p_min_pu=0.9*coal_chp_timeseries,\n",
    "      efficiency=gen_coal_chp['efficiency'].to_list()\n",
    "      )\n",
    "\n",
    "network.madd('Generator', \n",
    "      gen_oil_chp.index,\n",
    "      bus=gen_oil_chp['bus'].to_list(), \n",
    "      p_nom_extendable=False, \n",
    "      p_nom=gen_oil_chp['p_nom'].to_list(), \n",
    "      carrier=gen_oil_chp['carrier'].to_list(), \n",
    "      marginal_cost=gen_oil_chp['marginal_cost'].to_list(),\n",
    "      p_max_pu=1.32*oil_chp_timeseries,\n",
    "      p_min_pu=oil_chp_timeseries,\n",
    "      efficiency=gen_oil_chp['efficiency'].to_list()\n",
    "      )\n",
    "\n",
    "network.madd('Generator', \n",
    "      gen_res_chp.index,\n",
    "      bus=gen_res_chp['bus'].to_list(), \n",
    "      p_nom_extendable=False, \n",
    "      p_nom=gen_res_chp['p_nom'].to_list(), \n",
    "      carrier=gen_res_chp['carrier'].to_list(), \n",
    "      marginal_cost=gen_res_chp['marginal_cost'].to_list(),\n",
    "      p_max_pu=1.32*res_chp_timeseries,\n",
    "      p_min_pu=res_chp_timeseries,\n",
    "      efficiency=gen_res_chp['efficiency'].to_list()\n",
    "      )\n",
    "\n",
    "network.madd('Generator', \n",
    "      gen_bio_chp.index,\n",
    "      bus=gen_bio_chp['bus'].to_list(), \n",
    "      p_nom_extendable=False, \n",
    "      p_nom=gen_bio_chp['p_nom'].to_list(), \n",
    "      carrier=gen_bio_chp['carrier'].to_list(), \n",
    "      marginal_cost=gen_bio_chp['marginal_cost'].to_list(),\n",
    "      p_max_pu=chp_bio,\n",
    "      p_min_pu=chp_bio*0.9,\n",
    "      efficiency=gen_bio_chp['efficiency'].to_list()\n",
    "      )\n",
    "\n",
    "network.madd(\"StorageUnit\", st_hps.index, bus=st_hps['bus'].tolist(), carrier=st_hps['carrier'].tolist(),\n",
    "             p_nom=st_hps['p_nom'].tolist(), p_nom_extendable=False, max_hours=st_hps['max_hours'].to_list(),\n",
    "             p_max_pu=st_hps['p_max_pu'].tolist(),\n",
    "             efficiency_dispatch=st_hps['efficiency_dispatch'].tolist(),\n",
    "             standing_loss=st_hps['standing_loss'].tolist())\n",
    "            \n",
    "network.madd(\"StorageUnit\", st_battery.index, bus=st_battery['bus'].tolist(), carrier=st_battery['carrier'].tolist(),\n",
    "             p_nom=st_battery['p_nom'].tolist(), p_nom_extendable=False, max_hours=st_battery['max_hours'].to_list(),\n",
    "             p_max_pu=st_battery['p_max_pu'].tolist(),\n",
    "             efficiency_dispatch=st_battery['efficiency_dispatch'].tolist(),\n",
    "             standing_loss=st_battery['standing_loss'].tolist())\n",
    "\n",
    "network.madd(\"StorageUnit\", st_other.index, bus=st_other['bus'].tolist(), carrier=st_other['carrier'].tolist(),\n",
    "             p_nom=st_other['p_nom'].tolist(), p_nom_extendable=False, max_hours=st_other['max_hours'].to_list(),\n",
    "             p_max_pu=st_other['p_max_pu'].tolist(),\n",
    "             efficiency_dispatch=st_other['efficiency_dispatch'].tolist(),\n",
    "             standing_loss=st_other['standing_loss'].tolist())\n"
   ]
  },
  {
   "cell_type": "code",
   "execution_count": 7,
   "metadata": {},
   "outputs": [
    {
     "name": "stderr",
     "output_type": "stream",
     "text": [
      "<__array_function__ internals>:200: RuntimeWarning: invalid value encountered in cast\n",
      "<__array_function__ internals>:200: RuntimeWarning: invalid value encountered in cast\n",
      "<__array_function__ internals>:200: RuntimeWarning: invalid value encountered in cast\n",
      "INFO:linopy.model: Solve linear problem using Highs solver\n",
      "INFO:linopy.io:Writing objective.\n",
      "Writing constraints.: 100%|████████████████████████████████████████████████████████████| 18/18 [02:05<00:00,  6.94s/it]\n",
      "Writing variables.: 100%|████████████████████████████████████████████████████████████████| 8/8 [00:23<00:00,  2.89s/it]\n",
      "INFO:linopy.io: Writing time: 159.81s\n",
      "INFO:linopy.solvers:Log file at C:\\Users\\harri\\AppData\\Local\\Temp\\highs.log.\n",
      "INFO:linopy.constants: Optimization successful: \n",
      "Status: ok\n",
      "Termination condition: optimal\n",
      "Solution: 19517297 primals, 40208417 duals\n",
      "Objective: 8.46e+10\n",
      "Solver model: available\n",
      "Solver message: optimal\n",
      "\n"
     ]
    },
    {
     "data": {
      "text/plain": [
       "('ok', 'optimal')"
      ]
     },
     "execution_count": 7,
     "metadata": {},
     "output_type": "execute_result"
    }
   ],
   "source": [
    "network.optimize(solver_name='highs')"
   ]
  },
  {
   "cell_type": "code",
   "execution_count": 8,
   "metadata": {},
   "outputs": [
    {
     "data": {
      "text/plain": [
       "carrier\n",
       "BECCS              8.672400\n",
       "Biogas            86.544650\n",
       "Biomass           95.772033\n",
       "CBF                0.011551\n",
       "DSR                0.339268\n",
       "Gas              327.071496\n",
       "Gas CCS            1.078138\n",
       "Hard coal         80.230172\n",
       "Hydro            267.374767\n",
       "Hydrogen          12.963547\n",
       "Lignite           48.973371\n",
       "Nuclear          566.611354\n",
       "Oil               65.039286\n",
       "Other RES        100.739632\n",
       "PV               738.152715\n",
       "Wind             856.473714\n",
       "Wind offshore    554.384081\n",
       "dtype: float64"
      ]
     },
     "execution_count": 8,
     "metadata": {},
     "output_type": "execute_result"
    }
   ],
   "source": [
    "p_by_carrier = network.generators_t.p.groupby(network.generators.carrier, axis=1).sum()\n",
    "generation_by_fuel_yearly = p_by_carrier.sum()/1000000\n",
    "generation_by_fuel_yearly"
   ]
  },
  {
   "cell_type": "code",
   "execution_count": 8,
   "metadata": {},
   "outputs": [],
   "source": [
    "buses_UK = list(set([b for b in network.generators.bus.to_list() if 'EN_' in b])) + ['NorthernIreland', 'Scotland']"
   ]
  },
  {
   "cell_type": "code",
   "execution_count": 9,
   "metadata": {},
   "outputs": [],
   "source": [
    "prices = network.buses_t.marginal_price\n",
    "prices.to_csv('prices_uk_eu.csv')"
   ]
  },
  {
   "cell_type": "code",
   "execution_count": 10,
   "metadata": {},
   "outputs": [],
   "source": [
    "uk_prices = prices.iloc[:, prices.columns.isin(buses_UK)]\n",
    "uk_demand = load.iloc[:, load.columns.isin(buses_UK)]\n",
    "uk_prices['UK_weighted_average'] = np.average(uk_prices, weights=uk_demand, axis=1)\n",
    "uk_prices.to_csv('prices_uk_weighted.csv')"
   ]
  },
  {
   "cell_type": "code",
   "execution_count": 19,
   "metadata": {},
   "outputs": [],
   "source": [
    "p_by_carrier = network.generators_t.p.groupby([network.generators.carrier, network.generators.bus], axis=1).sum()\n",
    "generation_by_fuel_by_country = p_by_carrier.sum()/1000000\n",
    "generation_by_fuel_by_country.to_csv('generation_by_fuel_by_country.csv')"
   ]
  },
  {
   "cell_type": "code",
   "execution_count": 20,
   "metadata": {},
   "outputs": [],
   "source": [
    "p_by_unit = network.generators_t.p.sum()/1000000\n",
    "generation_by_unit = p_by_unit\n",
    "generation_by_unit.to_csv('generation_by_unit.csv')"
   ]
  },
  {
   "cell_type": "code",
   "execution_count": 51,
   "metadata": {},
   "outputs": [],
   "source": [
    "generation_by_link = network.links_t.p0.sum()/1000000\n",
    "country_from = ['UK' if c == 'EN' else 'UK' if c == 'Sc' else 'UK' if c == 'No' else c for c in generation_by_link.index.str[5:7]]\n",
    "country_to = ['UK' if c.islower() else c for c in generation_by_link.index.str[-2:]]\n",
    "generation_by_link = generation_by_link.to_frame(name='TWh')\n",
    "generation_by_link['from'] = country_from\n",
    "generation_by_link['to'] = country_to\n",
    "generation_by_link.to_csv('generation_by_link.csv')"
   ]
  },
  {
   "cell_type": "code",
   "execution_count": 22,
   "metadata": {},
   "outputs": [],
   "source": [
    "generation_by_line = network.lines_t.p0.sum()/1000000\n",
    "generation_by_line.to_csv('generation_by_line.csv')"
   ]
  },
  {
   "cell_type": "code",
   "execution_count": 23,
   "metadata": {},
   "outputs": [],
   "source": [
    "buses_UK = list(set([b for b in network.generators.bus.to_list() if 'EN_' in b])) + ['NorthernIreland', 'Scotland']\n",
    "generation_hourly_uk_by_fuel = p_by_carrier.iloc[:, p_by_carrier.columns.get_level_values(1).isin(buses_UK)].groupby(['carrier'], axis=1).sum()/1000000\n",
    "generation_hourly_uk_by_fuel.to_csv(\"generation_hourly_uk_by_fuel.csv\")"
   ]
  },
  {
   "cell_type": "code",
   "execution_count": null,
   "metadata": {},
   "outputs": [],
   "source": [
    "domestic_generation_by_fuel_yearly = generation_by_fuel_yearly\n",
    "domestic_generation_by_fuel_yearly=domestic_generation_by_fuel_yearly.drop('CBF')\n",
    "generation_by_fuel_yearly_percentage = domestic_generation_by_fuel_yearly.div(domestic_generation_by_fuel_yearly.sum(), axis=0)\n",
    "generation_by_fuel_yearly_percentage = generation_by_fuel_yearly_percentage.round(4)\n",
    "generation_by_fuel_yearly_percentage = (generation_by_fuel_yearly_percentage * 100).astype(str) + '%'\n",
    "generation_by_fuel_yearly_percentage\n"
   ]
  },
  {
   "cell_type": "code",
   "execution_count": null,
   "metadata": {},
   "outputs": [],
   "source": [
    "capacity_by_fuel = network.generators.groupby(\"carrier\")[\"p_nom\"].sum()\n",
    "capacity_by_fuel"
   ]
  },
  {
   "cell_type": "code",
   "execution_count": null,
   "metadata": {},
   "outputs": [],
   "source": [
    "storage_capacity = network.storage_units.groupby(\"carrier\")[\"p_nom\"].sum()\n",
    "storage_capacity"
   ]
  },
  {
   "cell_type": "code",
   "execution_count": null,
   "metadata": {},
   "outputs": [],
   "source": [
    "generation_carriers = pd.merge(network.generators, network.carriers, left_on=\"carrier\", right_index=True)\n",
    "emissions = network.generators_t.p * generation_carriers[\"co2_emissions\"] / generation_carriers[\"efficiency\"]\n",
    "\n",
    "(emissions.sum().sum()*1000000000000/1000000)/(generation_by_fuel_yearly.sum()*1000000000)"
   ]
  },
  {
   "cell_type": "code",
   "execution_count": null,
   "metadata": {},
   "outputs": [],
   "source": [
    "emissions.sum().sum()/1000000"
   ]
  }
 ],
 "metadata": {
  "interpreter": {
   "hash": "eca4985000c6ac3343c7ce1613e5b871e774106b7f73d15bd2b3794a42a8f709"
  },
  "kernelspec": {
   "display_name": "pypsa-310",
   "language": "python",
   "name": "pypsa-310"
  },
  "language_info": {
   "codemirror_mode": {
    "name": "ipython",
    "version": 3
   },
   "file_extension": ".py",
   "mimetype": "text/x-python",
   "name": "python",
   "nbconvert_exporter": "python",
   "pygments_lexer": "ipython3",
   "version": "3.10.9"
  }
 },
 "nbformat": 4,
 "nbformat_minor": 2
}
