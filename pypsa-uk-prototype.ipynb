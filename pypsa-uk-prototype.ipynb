{
 "cells": [
  {
   "cell_type": "code",
   "execution_count": 5,
   "source": [
    "import numpy as np\r\n",
    "import pandas as pd\r\n",
    "import os\r\n",
    "import pypsa\r\n",
    "import plotly\r\n",
    "import plotly.express as px\r\n",
    "import matplotlib.pyplot as plt\r\n",
    "import cartopy.crs as ccrs\r\n",
    "import plotly.graph_objects as go\r\n",
    "import numpy\r\n",
    "\r\n",
    "%matplotlib inline"
   ],
   "outputs": [],
   "metadata": {}
  },
  {
   "cell_type": "code",
   "execution_count": 6,
   "source": [
    "load = pd.read_excel('pypsa-uk-prototype.xlsx', sheet_name='load', parse_dates=['t'], index_col='t',usecols='A:M').dropna(axis=1, how='all').dropna()\r\n",
    "pv = pd.read_excel('pypsa-uk-prototype.xlsx', sheet_name='pv', parse_dates=['t'], index_col='t',usecols='A:M').dropna(axis=1, how='all').dropna()\r\n",
    "wind = pd.read_excel('pypsa-uk-prototype.xlsx', sheet_name='wind', parse_dates=['t'], index_col='t',usecols='A:M').dropna(axis=1, how='all').dropna()\r\n",
    "wind_offshore = pd.read_excel('pypsa-uk-prototype.xlsx', sheet_name='wind_offshore', parse_dates=['t'], index_col='t',usecols='A:M').dropna(axis=1, how='all').dropna()\r\n",
    "chp = pd.read_excel('pypsa-uk-prototype.xlsx', sheet_name='chp', parse_dates=['t'], index_col='t',usecols='A:AD').dropna(axis=1, how='all').dropna()\r\n",
    "#cbf = pd.read_excel('pypsa-uk-prototype.xlsx', sheet_name='cbf', parse_dates=['t'], index_col='t',usecols='A:I').dropna(axis=1, how='all').dropna()\r\n",
    "\r\n",
    "buses = pd.read_excel('pypsa-uk-prototype.xlsx', sheet_name='buses', index_col=0)\r\n",
    "cbf_buses = pd.read_excel('pypsa-uk-prototype.xlsx', sheet_name='cbf_buses', index_col=0)\r\n",
    "lines = pd.read_excel('pypsa-uk-prototype.xlsx', sheet_name='lines', index_col='name').dropna(axis=1, how='all').dropna()\r\n",
    "links = pd.read_excel('pypsa-uk-prototype.xlsx', sheet_name='links', index_col='name').dropna(axis=1, how='all').dropna()\r\n",
    "gen_pv = pd.read_excel('pypsa-uk-prototype.xlsx', sheet_name='gen_pv', index_col=0)\r\n",
    "gen_wind = pd.read_excel('pypsa-uk-prototype.xlsx', sheet_name='gen_wind', index_col=0)\r\n",
    "gen_wind_offshore = pd.read_excel('pypsa-uk-prototype.xlsx', sheet_name='gen_wind_offshore', index_col=0)\r\n",
    "gen_gas = pd.read_excel('pypsa-uk-prototype.xlsx', sheet_name='gen_gas', index_col=0, usecols='A:H')\r\n",
    "gen_oil = pd.read_excel('pypsa-uk-prototype.xlsx', sheet_name='gen_oil', index_col=0)\r\n",
    "gen_coal = pd.read_excel('pypsa-uk-prototype.xlsx', sheet_name='gen_coal', index_col=0)\r\n",
    "gen_nuclear = pd.read_excel('pypsa-uk-prototype.xlsx', sheet_name='gen_nuclear', index_col=0)\r\n",
    "gen_biomass = pd.read_excel('pypsa-uk-prototype.xlsx', sheet_name='gen_biomass', index_col=0, usecols='A:G')\r\n",
    "gen_biogas = pd.read_excel('pypsa-uk-prototype.xlsx', sheet_name='gen_biogas', index_col=0, usecols='A:G')\r\n",
    "gen_hydro = pd.read_excel('pypsa-uk-prototype.xlsx', sheet_name='gen_hydro', index_col=0)\r\n",
    "gen_dsr = pd.read_excel('pypsa-uk-prototype.xlsx', sheet_name='gen_dsr', index_col=0, usecols='A:F')\r\n",
    "gen_chp = pd.read_excel('pypsa-uk-prototype.xlsx', sheet_name='gen_chp', index_col=0, usecols='A:F')\r\n",
    "gen_cbf = pd.read_excel('pypsa-uk-prototype.xlsx', sheet_name='gen_cbf', index_col=0)\r\n",
    "st_hps = pd.read_excel('pypsa-uk-prototype.xlsx', sheet_name='st_hps', index_col=0)\r\n",
    "st_battery = pd.read_excel('pypsa-uk-prototype.xlsx', sheet_name='st_battery', index_col=0, usecols='A:I')\r\n",
    "st_other = pd.read_excel('pypsa-uk-prototype.xlsx', sheet_name='st_other', index_col=0, usecols='A:I')"
   ],
   "outputs": [],
   "metadata": {}
  },
  {
   "cell_type": "code",
   "execution_count": 7,
   "source": [
    "network = pypsa.Network()\r\n",
    "network.set_snapshots(load.index)\r\n",
    "\r\n",
    "network.import_components_from_dataframe(buses, 'Bus')\r\n",
    "network.import_components_from_dataframe(cbf_buses, 'Bus')\r\n",
    "\r\n",
    "network.import_components_from_dataframe(lines, 'Line')\r\n",
    "network.lines['s_nom_extendable'] = True  \r\n",
    "\r\n",
    "network.madd(\"Link\", links.index,\r\n",
    "             bus0=links['bus0'].tolist(), bus1= links['bus1'].tolist(),\r\n",
    "             p_nom=links['p_nom'].tolist())\r\n",
    "\r\n",
    "network.madd(\"Generator\", gen_cbf.index, suffix='_CBF', carrier='CBF',\r\n",
    "             bus=gen_cbf.index.tolist(), p_nom=gen_cbf['p_nom'].to_list(), p_nom_extendable=False, \r\n",
    "             marginal_cost=gen_cbf['marginal_cost'].to_list())\r\n",
    "\r\n",
    "dict_carriers = {\r\n",
    "    'Lignite': 0.334, 'Hard coal': 0.354, 'Gas': 0.187, 'Gas CCS': 0, 'Oil': 0.334, 'Hydrogen': 0, 'Biomass': 0.403, 'Biogas': 0.178, 'BECCS': 0,\r\n",
    "    'Geothermal': 0.026, 'Wind': 0, 'Wind offshore': 0, 'PV': 0, 'HPS': 0, 'Hydro': 0, 'CBF': 0, 'VOLL': 0, 'Battery': 0, 'Other storage' : 0, 'Nuclear': 0\r\n",
    "}\r\n",
    "\r\n",
    "for carrier in dict_carriers:\r\n",
    "    network.add(\"Carrier\", name=carrier, co2_emissions=dict_carriers[carrier])\r\n",
    "\r\n",
    "# Load\r\n",
    "#demand_increase = 2\r\n",
    "#load = load*demand_increase\r\n",
    "\r\n",
    "network.madd(\"Load\", load.columns, bus=load.columns, p_set=load)"
   ],
   "outputs": [
    {
     "output_type": "stream",
     "name": "stderr",
     "text": [
      "C:\\ProgramData\\Miniconda3\\envs\\instrat-energy-model\\lib\\site-packages\\pypsa\\io.py:771: FutureWarning:\n",
      "\n",
      "Index.__or__ operating as a set operation is deprecated, in the future this will be a logical operation matching Series.__or__.  Use index.union(other) instead\n",
      "\n"
     ]
    },
    {
     "output_type": "execute_result",
     "data": {
      "text/plain": [
       "Index(['EN_NorthEast', 'EN_NorthWest', 'EN_Yorkshire', 'EN_EastMidlands',\n",
       "       'EN_WestMidlands', 'EN_East', 'EN_London', 'EN_SouthEast',\n",
       "       'EN_SouthWest', 'EN_Wales', 'Scotland', 'NorthernIreland'],\n",
       "      dtype='object')"
      ]
     },
     "metadata": {},
     "execution_count": 7
    }
   ],
   "metadata": {}
  },
  {
   "cell_type": "code",
   "execution_count": 8,
   "source": [
    "network.madd('Generator', \r\n",
    "      gen_pv['bus'],\r\n",
    "      suffix='_PV',\r\n",
    "      bus=gen_pv['bus'].to_list(), \r\n",
    "      p_nom_extendable=False, \r\n",
    "      p_nom=gen_pv['p_nom'].to_list(),\r\n",
    "      carrier='PV', \r\n",
    "      marginal_cost=gen_pv['marginal_cost'].to_list(), \r\n",
    "      p_max_pu=pv)\r\n",
    "\r\n",
    "\r\n",
    "network.madd('Generator', \r\n",
    "      gen_wind['bus'],\r\n",
    "      suffix='_Wind',\r\n",
    "      bus=gen_wind['bus'].to_list(), \r\n",
    "      p_nom_extendable=False, \r\n",
    "      p_nom=gen_wind['p_nom'].to_list(), \r\n",
    "      carrier='Wind', \r\n",
    "      marginal_cost=gen_wind['marginal_cost'].to_list(), \r\n",
    "      p_max_pu=wind)\r\n",
    "\r\n",
    "network.madd('Generator', \r\n",
    "      gen_wind_offshore['bus'],\r\n",
    "      suffix='_Wind_offshore',\r\n",
    "      bus=gen_wind_offshore['bus'].to_list(), \r\n",
    "      p_nom_extendable=False, \r\n",
    "      p_nom=gen_wind_offshore['p_nom'].to_list(), \r\n",
    "      carrier='Wind offshore', \r\n",
    "      marginal_cost=gen_wind_offshore['marginal_cost'].to_list(), \r\n",
    "      p_max_pu=wind_offshore)\r\n",
    "\r\n",
    "network.madd('Generator', \r\n",
    "      gen_gas.index,\r\n",
    "      bus=gen_gas['bus'].to_list(), \r\n",
    "      p_nom_extendable=False, \r\n",
    "      p_nom=gen_gas['p_nom'].to_list(), \r\n",
    "      carrier=gen_gas['carrier'].to_list(), \r\n",
    "      marginal_cost=gen_gas['marginal_cost'].to_list(),\r\n",
    "      efficiency=gen_gas['efficiency'].to_list()\r\n",
    "      )\r\n",
    "\r\n",
    "network.madd('Generator', \r\n",
    "      gen_oil.index,\r\n",
    "      bus=gen_oil['bus'].to_list(), \r\n",
    "      p_nom_extendable=False, \r\n",
    "      p_nom=gen_oil['p_nom'].to_list(), \r\n",
    "      carrier='Oil', \r\n",
    "      marginal_cost=gen_oil['marginal_cost'].to_list(),\r\n",
    "      efficiency=gen_oil['efficiency'].to_list()\r\n",
    "      )\r\n",
    "\r\n",
    "network.madd('Generator', \r\n",
    "      gen_coal.index,\r\n",
    "      bus=gen_coal['bus'].to_list(), \r\n",
    "      p_nom_extendable=False, \r\n",
    "      p_nom=gen_coal['p_nom'].to_list(), \r\n",
    "      carrier=gen_coal['carrier'].to_list(), \r\n",
    "      marginal_cost=gen_coal['marginal_cost'].to_list(),\r\n",
    "      efficiency=gen_coal['efficiency'].to_list()\r\n",
    "      )\r\n",
    "\r\n",
    "network.madd('Generator', \r\n",
    "      gen_nuclear.index,\r\n",
    "      bus=gen_nuclear['bus'].to_list(), \r\n",
    "      p_nom_extendable=False, \r\n",
    "      p_nom=gen_nuclear['p_nom'].to_list(), \r\n",
    "      carrier='Nuclear', \r\n",
    "      marginal_cost=gen_nuclear['marginal_cost'].to_list(),\r\n",
    "      efficiency=gen_nuclear['efficiency'].to_list(),\r\n",
    "      p_max_pu=gen_nuclear['p_max_pu'].to_list()\r\n",
    "      )\r\n",
    "\r\n",
    "network.madd('Generator', \r\n",
    "      gen_biomass.index,\r\n",
    "      bus=gen_biomass['bus'].to_list(), \r\n",
    "      p_nom_extendable=False, \r\n",
    "      p_nom=gen_biomass['p_nom'].to_list(), \r\n",
    "      carrier=gen_biomass['carrier'].to_list(), \r\n",
    "      marginal_cost=gen_biomass['marginal_cost'].to_list(),\r\n",
    "      efficiency=gen_biomass['efficiency'].to_list(),\r\n",
    "      p_max_pu=gen_biomass['p_max_pu'].to_list()\r\n",
    "      )\r\n",
    "\r\n",
    "network.madd('Generator', \r\n",
    "      gen_biogas['bus'],\r\n",
    "      suffix='_Biogas',\r\n",
    "      bus=gen_biogas['bus'].to_list(), \r\n",
    "      p_nom_extendable=False, \r\n",
    "      p_nom=gen_biogas['p_nom'].to_list(), \r\n",
    "      carrier='Biogas', \r\n",
    "      marginal_cost=gen_biogas['marginal_cost'].to_list(),\r\n",
    "      efficiency=gen_biogas['efficiency'].to_list(),\r\n",
    "      p_max_pu=gen_biogas['p_max_pu'].to_list()\r\n",
    "      )\r\n",
    "\r\n",
    "network.madd('Generator', \r\n",
    "      gen_hydro['bus'],\r\n",
    "      suffix='_Hydro',\r\n",
    "      bus=gen_hydro['bus'].to_list(), \r\n",
    "      p_nom_extendable=False, \r\n",
    "      p_nom=gen_hydro['p_nom'].to_list(), \r\n",
    "      carrier='Hydro', \r\n",
    "      marginal_cost=gen_hydro['marginal_cost'].to_list(),\r\n",
    "      p_max_pu=gen_hydro['p_max_pu'].to_list()\r\n",
    "      )\r\n",
    "\r\n",
    "network.madd('Generator', \r\n",
    "      gen_dsr['bus'],\r\n",
    "      suffix='_DSR',\r\n",
    "      bus=gen_dsr['bus'].to_list(), \r\n",
    "      p_nom_extendable=False, \r\n",
    "      p_nom=gen_dsr['p_nom'].to_list(), \r\n",
    "      carrier='DSR', \r\n",
    "      marginal_cost=gen_dsr['marginal_cost'].to_list(),\r\n",
    "      p_max_pu=gen_dsr['p_max_pu'].to_list()\r\n",
    "      )\r\n",
    "\r\n",
    "network.madd('Generator', \r\n",
    "      gen_chp.index,\r\n",
    "      bus=gen_chp['bus'].to_list(), \r\n",
    "      p_nom_extendable=False, \r\n",
    "      p_nom=gen_chp['p_nom'].to_list(), \r\n",
    "      carrier=gen_chp['carrier'].to_list(), \r\n",
    "      marginal_cost=gen_chp['marginal_cost'].to_list(),\r\n",
    "      p_max_pu=chp,\r\n",
    "      efficiency=gen_chp['efficiency'].to_list()\r\n",
    "      )\r\n",
    "\r\n",
    "network.madd(\"StorageUnit\", st_hps.index, bus=st_hps['bus'].tolist(), carrier=st_hps['carrier'].tolist(),\r\n",
    "             p_nom=st_hps['p_nom'].tolist(), p_nom_extendable=False, max_hours=st_hps['max_hours'].to_list(),\r\n",
    "             p_max_pu=st_hps['p_max_pu'].tolist(),\r\n",
    "             efficiency_dispatch=st_hps['efficiency_dispatch'].tolist(),\r\n",
    "             standing_loss=st_hps['standing_loss'].tolist())\r\n",
    "            \r\n",
    "network.madd(\"StorageUnit\", st_battery.index, bus=st_battery['bus'].tolist(), carrier=st_battery['carrier'].tolist(),\r\n",
    "             p_nom=st_battery['p_nom'].tolist(), p_nom_extendable=False, max_hours=st_battery['max_hours'].to_list(),\r\n",
    "             p_max_pu=st_battery['p_max_pu'].tolist(),\r\n",
    "             efficiency_dispatch=st_battery['efficiency_dispatch'].tolist(),\r\n",
    "             standing_loss=st_battery['standing_loss'].tolist())\r\n",
    "\r\n",
    "network.madd(\"StorageUnit\", st_other.index, bus=st_other['bus'].tolist(), carrier=st_other['carrier'].tolist(),\r\n",
    "             p_nom=st_other['p_nom'].tolist(), p_nom_extendable=False, max_hours=st_other['max_hours'].to_list(),\r\n",
    "             p_max_pu=st_other['p_max_pu'].tolist(),\r\n",
    "             efficiency_dispatch=st_other['efficiency_dispatch'].tolist(),\r\n",
    "             standing_loss=st_other['standing_loss'].tolist())\r\n"
   ],
   "outputs": [
    {
     "output_type": "stream",
     "name": "stderr",
     "text": [
      "ERROR:pypsa.io:Error, new components for Generator are not unique\n"
     ]
    },
    {
     "output_type": "execute_result",
     "data": {
      "text/plain": [
       "Index(['EN_NorthEast_OtherStorage', 'EN_NorthWest_OtherStorage',\n",
       "       'EN_Yorkshire_OtherStorage', 'EN_EastMidlands_OtherStorage',\n",
       "       'EN_WestMidlands_OtherStorage', 'EN_East_OtherStorage',\n",
       "       'EN_London_OtherStorage', 'EN_SouthEast_OtherStorage',\n",
       "       'EN_SouthWest_OtherStorage', 'EN_Wales_OtherStorage',\n",
       "       'Scotland_OtherStorage', 'NorthernIreland_OtherStorage'],\n",
       "      dtype='object', name='name')"
      ]
     },
     "metadata": {},
     "execution_count": 8
    }
   ],
   "metadata": {}
  },
  {
   "cell_type": "code",
   "execution_count": 13,
   "source": [
    "network.lopf(snapshots=network.snapshots, solver_name='cplex', pyomo=False)"
   ],
   "outputs": [
    {
     "output_type": "stream",
     "name": "stderr",
     "text": [
      "INFO:pypsa.linopf:Prepare linear problem\n",
      "C:\\ProgramData\\Miniconda3\\envs\\instrat-energy-model\\lib\\site-packages\\pypsa\\linopf.py:85: FutureWarning:\n",
      "\n",
      "Index.__or__ operating as a set operation is deprecated, in the future this will be a logical operation matching Series.__or__.  Use index.union(other) instead\n",
      "\n",
      "C:\\ProgramData\\Miniconda3\\envs\\instrat-energy-model\\lib\\site-packages\\pypsa\\linopf.py:185: FutureWarning:\n",
      "\n",
      "Index.__and__ operating as a set operation is deprecated, in the future this will be a logical operation matching Series.__and__.  Use index.intersection(other) instead\n",
      "\n",
      "INFO:pypsa.linopf:Total preparation time: 13.91s\n",
      "INFO:pypsa.linopf:Solve linear problem using Cplex solver\n"
     ]
    },
    {
     "output_type": "stream",
     "name": "stdout",
     "text": [
      "Version identifier: 12.10.0.0 | 2019-11-26 | 843d4de2ae\n",
      "CPXPARAM_Read_DataCheck                          1\n",
      "Parallel mode: deterministic, using up to 12 threads for concurrent optimization:\n",
      " * Starting dual Simplex on 1 thread...\n",
      " * Starting Barrier on 10 threads...\n",
      " * Starting primal Simplex on 1 thread...\n",
      "Tried aggregator 1 time.\n",
      "LP Presolve eliminated 3871920 rows and 1173858 columns.\n",
      "Aggregator did 105120 substitutions.\n",
      "Reduced LP has 87600 rows, 630720 columns, and 1024916 nonzeros.\n",
      "Presolve time = 4.91 sec. (2362.96 ticks)\n",
      "Initializing dual steep norms . . .\n",
      "\n",
      "Iteration log . . .\n",
      "Iteration:     1   Dual objective     =             0.000000\n",
      "Perturbation started.\n",
      "Iteration:   101   Dual objective     =             0.000000\n",
      "Iteration:  1437   Dual objective     =             0.000000\n",
      "Iteration:  2737   Dual objective     =             0.000000\n",
      "Iteration:  4047   Dual objective     =             0.000000\n",
      "Iteration:  5377   Dual objective     =             0.000000\n",
      "Iteration:  6718   Dual objective     =             0.000000\n",
      "Iteration:  8069   Dual objective     =             0.000000\n",
      "Iteration:  9425   Dual objective     =             0.000000\n",
      "Iteration: 10791   Dual objective     =             0.000000\n",
      "Iteration: 12165   Dual objective     =             0.000000\n",
      "Iteration: 13546   Dual objective     =             0.000000\n",
      "Iteration: 14970   Dual objective     =             0.000000\n",
      "Iteration: 16402   Dual objective     =             0.000000\n",
      "Iteration: 17836   Dual objective     =             0.000000\n",
      "Iteration: 19287   Dual objective     =      13083400.249721\n",
      "Iteration: 20718   Dual objective     =      65432272.617181\n",
      "Iteration: 22158   Dual objective     =     169480794.201920\n",
      "Iteration: 23620   Dual objective     =     341132181.745219\n",
      "Iteration: 25098   Dual objective     =     554687879.782250\n",
      "Iteration: 26577   Dual objective     =     804476998.020209\n",
      "Iteration: 27999   Dual objective     =    1058859441.253140\n",
      "Iteration: 29459   Dual objective     =    1325356902.665735\n",
      "Iteration: 30938   Dual objective     =    1607815002.162494\n",
      "Iteration: 32368   Dual objective     =    1871063983.038077\n",
      "Iteration: 33790   Dual objective     =    2124955992.867105\n",
      "Iteration: 35215   Dual objective     =    2374844192.148312\n",
      "Iteration: 36542   Dual objective     =    2559052691.427690\n",
      "Iteration: 37958   Dual objective     =    2767825790.850584\n",
      "Iteration: 39374   Dual objective     =    2954578611.235320\n",
      "Iteration: 40729   Dual objective     =    3068613893.787487\n",
      "Iteration: 42317   Dual objective     =    3075767251.196936\n",
      "Iteration: 42980   Dual objective     =    3111555793.246556\n",
      "Iteration: 43541   Dual objective     =    3133758945.429215\n",
      "Iteration: 44749   Dual objective     =    3159768833.356929\n",
      "Iteration: 46285   Dual objective     =    3169895980.460580\n",
      "Iteration: 47238   Dual objective     =    3186671446.085950\n",
      "Iteration: 48181   Dual objective     =    3209443172.312253\n",
      "Iteration: 49275   Dual objective     =    3218997640.959861\n",
      "Iteration: 50326   Dual objective     =    3222350326.527145\n",
      "Iteration: 51402   Dual objective     =    3224828513.740027\n",
      "Iteration: 52524   Dual objective     =    3226805606.349477\n",
      "Iteration: 53769   Dual objective     =    3228354687.522749\n",
      "Iteration: 54990   Dual objective     =    3229533956.350594\n",
      "Iteration: 56284   Dual objective     =    3230491949.203089\n",
      "Iteration: 57526   Dual objective     =    3231229880.636569\n",
      "Iteration: 58751   Dual objective     =    3231863610.743311\n",
      "Iteration: 59986   Dual objective     =    3232459171.638364\n",
      "Iteration: 61209   Dual objective     =    3232894012.712790\n",
      "Iteration: 62415   Dual objective     =    3233168858.042098\n",
      "Iteration: 63600   Dual objective     =    3233267751.058796\n",
      "Removing perturbation.\n",
      "\n",
      "Primal simplex solved model.\n",
      "\n"
     ]
    },
    {
     "output_type": "stream",
     "name": "stderr",
     "text": [
      "INFO:pypsa.linopf:Optimization successful. Objective value: 3.23e+09\n"
     ]
    },
    {
     "output_type": "execute_result",
     "data": {
      "text/plain": [
       "('ok', 'optimal')"
      ]
     },
     "metadata": {},
     "execution_count": 13
    }
   ],
   "metadata": {}
  },
  {
   "cell_type": "code",
   "execution_count": 14,
   "source": [
    "p_by_carrier = network.generators_t.p.groupby(network.generators.carrier, axis=1).sum()\r\n",
    "#p_by_generator = network.generators_t.p\r\n",
    "# battery_storage = pd.DataFrame(index=network.snapshots)\r\n",
    "# battery_storage[\"Battery dispatch [MW]\"] = network.storage_units_t.p\r\n",
    "# battery_storage[\"State of charge [MWh]\"] = network.storage_units_t.state_of_charge\r\n",
    "\r\n",
    "#p_by_generator.to_csv(f'p_by_generator.csv', index=True)\r\n",
    "# battery_storage.to_csv(f'battery_storage_shoppingcenter.csv', index=True)\r\n",
    "\r\n",
    "generation_by_fuel_yearly = p_by_carrier.sum()/1000000\r\n",
    "generation_by_fuel_yearly"
   ],
   "outputs": [
    {
     "output_type": "execute_result",
     "data": {
      "text/plain": [
       "carrier\n",
       "Biogas             9.543716\n",
       "Biomass           31.281682\n",
       "CBF               18.706477\n",
       "Coal               1.157655\n",
       "Gas              129.384306\n",
       "Hydro              5.928005\n",
       "Nuclear           61.064008\n",
       "Oil                0.000000\n",
       "PV                13.087126\n",
       "Wind              33.951629\n",
       "Wind offshore     35.186456\n",
       "dtype: float64"
      ]
     },
     "metadata": {},
     "execution_count": 14
    }
   ],
   "metadata": {}
  },
  {
   "cell_type": "code",
   "execution_count": 16,
   "source": [
    "load_distribution = network.loads_t.p_set.loc[network.snapshots[0]].groupby(network.loads.bus).sum().reindex(network.buses.index,fill_value=0.)\r\n",
    "lines_by_name = pd.DataFrame(network.lines)\r\n",
    "lines_by_name[\"2019\"] = abs(network.lines_t.p0).max(0)\r\n",
    "lines_by_name[\"voltage\"] = 400\r\n",
    "lines_by_name[\"power\"] = lines_by_name[\"num_parallel\"]*1640\r\n",
    "\r\n",
    "lines_by_name[\"load\"] = abs(lines_by_name[\"2019\"]/lines_by_name[\"power\"])\r\n",
    "\r\n",
    "parameters = dict(\r\n",
    "    zoom=4,\r\n",
    "    center={\"lat\": 54.5490229241779, \"lon\": -3.12346413890583},\r\n",
    ")\r\n",
    "\r\n",
    "fig = dict(\r\n",
    "    data=[],\r\n",
    "    layout=dict(\r\n",
    "        width=800,\r\n",
    "        height=500,\r\n",
    "        plot_bgcolor='white',\r\n",
    "        margin=dict(t=80, b=50,l=50, r=50),\r\n",
    "        font=dict(\r\n",
    "            family=\"Work Sans, sans-serif\",\r\n",
    "            size=13,\r\n",
    "            color=\"black\"\r\n",
    "        ),\r\n",
    "        annotations=[\r\n",
    "            go.layout.Annotation( \r\n",
    "                text='<i>Demand concentrated in South East, with wind generation focused in the North.</i>',\r\n",
    "                align='left',\r\n",
    "                showarrow=False,\r\n",
    "                xref='paper',\r\n",
    "                yref='paper',\r\n",
    "                x=0,\r\n",
    "                y=1.05,\r\n",
    "                xanchor=\"left\", \r\n",
    "                yanchor=\"top\",\r\n",
    "                visible=True,\r\n",
    "                font=dict(\r\n",
    "                    family=\"Work Sans, sans-serif\",\r\n",
    "                    size=11,\r\n",
    "                    color=\"grey\"\r\n",
    "                )\r\n",
    "            ),\r\n",
    "            go.layout.Annotation( \r\n",
    "                text='<i>Sources: Ember, CC BY 4.0.</i>',\r\n",
    "                align='left',\r\n",
    "                showarrow=False,\r\n",
    "                xref='paper',\r\n",
    "                yref='paper',\r\n",
    "                x=0,\r\n",
    "                y=-0.05,\r\n",
    "                xanchor=\"left\", \r\n",
    "                yanchor=\"top\",\r\n",
    "                visible=True,\r\n",
    "                font=dict(\r\n",
    "                    family=\"Work Sans, sans-serif\",\r\n",
    "                    size=11,\r\n",
    "                    color=\"grey\"\r\n",
    "                )\r\n",
    "            ),\r\n",
    "        ]\r\n",
    "    )\r\n",
    ") \r\n",
    "\r\n",
    "fig = network.iplot(fig=fig, line_widths=lines_by_name[\"load\"]*2,\r\n",
    "                     mapbox=True, mapbox_style='carto-positron', mapbox_token='', mapbox_parameters=parameters, bus_sizes=0.01*load_distribution, title='<b>Load distribution per line and demand per node</b>')"
   ],
   "outputs": [
    {
     "output_type": "display_data",
     "data": {
      "application/vnd.plotly.v1+json": {
       "config": {
        "linkText": "Export to plot.ly",
        "plotlyServerURL": "https://plot.ly",
        "showLink": false
       },
       "data": [
        {
         "lat": [
          54.95238,
          54.5490229241779
         ],
         "line": {
          "color": "rosybrown",
          "width": 1.945288730370221
         },
         "lon": [
          -1.719924,
          -3.12346413890583
         ],
         "mode": "lines",
         "opacity": 0.8,
         "type": "scattermapbox"
        },
        {
         "lat": [
          54.5490229241779,
          54.0268218679253
         ],
         "line": {
          "color": "rosybrown",
          "width": 1.7150990202546539
         },
         "lon": [
          -3.12346413890583,
          -0.825877336331781
         ],
         "mode": "lines",
         "opacity": 0.8,
         "type": "scattermapbox"
        },
        {
         "lat": [
          54.5490229241779,
          52.5654460663373
         ],
         "line": {
          "color": "rosybrown",
          "width": 5.17711033989787
         },
         "lon": [
          -3.12346413890583,
          -2.38077046867501
         ],
         "mode": "lines",
         "opacity": 0.8,
         "type": "scattermapbox"
        },
        {
         "lat": [
          54.0268218679253,
          54.95238
         ],
         "line": {
          "color": "rosybrown",
          "width": 2.981397372152793
         },
         "lon": [
          -0.825877336331781,
          -1.719924
         ],
         "mode": "lines",
         "opacity": 0.8,
         "type": "scattermapbox"
        },
        {
         "lat": [
          53.1340281676242,
          54.0268218679253
         ],
         "line": {
          "color": "rosybrown",
          "width": 6.037928287714171
         },
         "lon": [
          -0.464703901832944,
          -0.825877336331781
         ],
         "mode": "lines",
         "opacity": 0.8,
         "type": "scattermapbox"
        },
        {
         "lat": [
          52.5654460663373,
          53.1340281676242
         ],
         "line": {
          "color": "rosybrown",
          "width": 3.3587793015767407
         },
         "lon": [
          -2.38077046867501,
          -0.464703901832944
         ],
         "mode": "lines",
         "opacity": 0.8,
         "type": "scattermapbox"
        },
        {
         "lat": [
          52.3963072352992,
          53.1340281676242
         ],
         "line": {
          "color": "rosybrown",
          "width": 5.531237818149344
         },
         "lon": [
          0.762207582337969,
          -0.464703901832944
         ],
         "mode": "lines",
         "opacity": 0.8,
         "type": "scattermapbox"
        },
        {
         "lat": [
          51.4690178322752,
          51.105841708201
         ],
         "line": {
          "color": "rosybrown",
          "width": 5.868921374261463
         },
         "lon": [
          -0.170146468884657,
          0.199390683324611
         ],
         "mode": "lines",
         "opacity": 0.8,
         "type": "scattermapbox"
        },
        {
         "lat": [
          51.4690178322752,
          52.3963072352992
         ],
         "line": {
          "color": "rosybrown",
          "width": 4.023933475648952
         },
         "lon": [
          -0.170146468884657,
          0.762207582337969
         ],
         "mode": "lines",
         "opacity": 0.8,
         "type": "scattermapbox"
        },
        {
         "lat": [
          51.105841708201,
          50.768088
         ],
         "line": {
          "color": "rosybrown",
          "width": 2.5199616009417904
         },
         "lon": [
          0.199390683324611,
          -3.673391
         ],
         "mode": "lines",
         "opacity": 0.8,
         "type": "scattermapbox"
        },
        {
         "lat": [
          51.105841708201,
          53.1340281676242
         ],
         "line": {
          "color": "rosybrown",
          "width": 3.4100324950950744
         },
         "lon": [
          0.199390683324611,
          -0.464703901832944
         ],
         "mode": "lines",
         "opacity": 0.8,
         "type": "scattermapbox"
        },
        {
         "lat": [
          50.768088,
          52.5654460663373
         ],
         "line": {
          "color": "rosybrown",
          "width": 3.4455083991298805
         },
         "lon": [
          -3.673391,
          -2.38077046867501
         ],
         "mode": "lines",
         "opacity": 0.8,
         "type": "scattermapbox"
        },
        {
         "lat": [
          52.428325,
          52.5654460663373
         ],
         "line": {
          "color": "rosybrown",
          "width": 4.959975318503215
         },
         "lon": [
          -3.840462,
          -2.38077046867501
         ],
         "mode": "lines",
         "opacity": 0.8,
         "type": "scattermapbox"
        },
        {
         "lat": [
          52.428325,
          54.5490229241779
         ],
         "line": {
          "color": "rosybrown",
          "width": 3.4886104246254113
         },
         "lon": [
          -3.840462,
          -3.12346413890583
         ],
         "mode": "lines",
         "opacity": 0.8,
         "type": "scattermapbox"
        },
        {
         "lat": [
          56.768073,
          54.95238
         ],
         "line": {
          "color": "rosybrown",
          "width": 3.713779963219782
         },
         "lon": [
          -3.902334,
          -1.719924
         ],
         "mode": "lines",
         "opacity": 0.8,
         "type": "scattermapbox"
        },
        {
         "lat": [
          56.768073,
          54.5490229241779
         ],
         "line": {
          "color": "rosybrown",
          "width": 5.541466667126925
         },
         "lon": [
          -3.902334,
          -3.12346413890583
         ],
         "mode": "lines",
         "opacity": 0.8,
         "type": "scattermapbox"
        },
        {
         "lat": [
          54.6212023759131,
          56.768073
         ],
         "line": {
          "color": "rosybrown",
          "width": 1.5665657695121953
         },
         "lon": [
          -6.07408378124666,
          -3.902334
         ],
         "mode": "lines",
         "opacity": 0.8,
         "type": "scattermapbox"
        },
        {
         "lat": [
          50.9701199883886,
          51.105841708201
         ],
         "line": {
          "color": "darkseagreen",
          "width": 3
         },
         "lon": [
          1.90732913740976,
          0.199390683324611
         ],
         "mode": "lines",
         "opacity": 0.8,
         "type": "scattermapbox"
        },
        {
         "lat": [
          52.0117119816968,
          51.105841708201
         ],
         "line": {
          "color": "darkseagreen",
          "width": 3
         },
         "lon": [
          4.14746304420704,
          0.199390683324611
         ],
         "mode": "lines",
         "opacity": 0.8,
         "type": "scattermapbox"
        },
        {
         "lat": [
          53.3611537601101,
          52.428325
         ],
         "line": {
          "color": "darkseagreen",
          "width": 3
         },
         "lon": [
          -6.41686124988195,
          -3.840462
         ],
         "mode": "lines",
         "opacity": 0.8,
         "type": "scattermapbox"
        },
        {
         "lat": [
          51.2436971677884,
          51.105841708201
         ],
         "line": {
          "color": "darkseagreen",
          "width": 3
         },
         "lon": [
          3.21666864694001,
          0.199390683324611
         ],
         "mode": "lines",
         "opacity": 0.8,
         "type": "scattermapbox"
        },
        {
         "lat": [
          49.1666487447698,
          51.105841708201
         ],
         "line": {
          "color": "darkseagreen",
          "width": 3
         },
         "lon": [
          -0.354771504483303,
          0.199390683324611
         ],
         "mode": "lines",
         "opacity": 0.8,
         "type": "scattermapbox"
        },
        {
         "lat": [
          59.5229846001249,
          54.95238
         ],
         "line": {
          "color": "darkseagreen",
          "width": 3
         },
         "lon": [
          6.65313650376894,
          -1.719924
         ],
         "mode": "lines",
         "opacity": 0.8,
         "type": "scattermapbox"
        },
        {
         "lat": [
          50.9701199883886,
          51.105841708201
         ],
         "line": {
          "color": "darkseagreen",
          "width": 3
         },
         "lon": [
          1.90732913740976,
          0.199390683324611
         ],
         "mode": "lines",
         "opacity": 0.8,
         "type": "scattermapbox"
        },
        {
         "hoverinfo": "text",
         "lat": [
          54.75070146208895,
          54.2879223960516,
          53.5572344952576,
          54.48960093396265,
          53.58042501777475,
          52.84973711698075,
          52.7651677014617,
          51.2874297702381,
          51.932662533787195,
          50.936964854100495,
          52.1199349379126,
          51.666767033168654,
          52.49688553316865,
          53.48867396208895,
          55.860226499999996,
          55.658547962088946,
          55.69463768795655
         ],
         "lon": [
          -2.421694069452915,
          -1.9746707376188055,
          -2.75211730379042,
          -1.2729006681658905,
          -0.6452906190823625,
          -1.422737185253977,
          0.1487518402525125,
          0.01462210721997699,
          0.296030556726656,
          -1.7370001583376946,
          -0.1326566092541665,
          -3.0270807343375052,
          -3.1106162343375052,
          -3.481963069452915,
          -2.811129,
          -3.5128990694529154,
          -4.98820889062333
         ],
         "marker": {
          "opacity": 0
         },
         "mode": "markers",
         "text": [
          "Line EN_NorthEast_EN_NorthWest",
          "Line EN_NorthWest_EN_Yorkshire",
          "Line EN_NorthWest_EN_WestMidlands",
          "Line EN_Yorkshire_EN_NorthEast",
          "Line EN_EastMidlands_EN_Yorkshire",
          "Line EN_WestMidlands_EN_EastMidlands",
          "Line EN_East_EN_EastMidlands",
          "Line EN_London_EN_SouthEast",
          "Line EN_London_EN_East",
          "Line EN_SouthEast_EN_SouthWest",
          "Line EN_SouthEast_EN_EastMidlands",
          "Line EN_SouthWest_EN_WestMidlands",
          "Line EN_Wales_EN_WestMidlands",
          "Line EN_Wales_EN_NorthWest",
          "Line Scotland_EN_NorthEast",
          "Line Scotland_EN_NorthWest",
          "Line NorthernIreland_Scotland"
         ],
         "type": "scattermapbox"
        },
        {
         "hoverinfo": "text",
         "lat": [
          51.0379808482948,
          51.558776844948895,
          52.89473938005505,
          51.1747694379947,
          50.1362452264854,
          57.237682300062446,
          51.0379808482948
         ],
         "lon": [
          1.0533599103671856,
          2.1734268637658256,
          -5.128661624940975,
          1.7080296651323104,
          -0.07769041057934602,
          2.4666062518844702,
          1.0533599103671856
         ],
         "marker": {
          "opacity": 0
         },
         "mode": "markers",
         "text": [
          "Link INTFR",
          "Link INTNED",
          "Link INTEW",
          "Link INTNEM",
          "Link INTIFA2",
          "Link INTNSL",
          "Link INTELEC"
         ],
         "type": "scattermapbox"
        },
        {
         "hoverinfo": "text",
         "lat": [
          54.95238,
          54.5490229241779,
          54.0268218679253,
          53.1340281676242,
          52.5654460663373,
          52.3963072352992,
          51.4690178322752,
          51.105841708201,
          50.768088,
          52.428325,
          56.768073,
          54.6212023759131,
          50.9701199883886,
          52.0117119816968,
          53.3611537601101,
          51.2436971677884,
          49.1666487447698,
          59.5229846001249
         ],
         "lon": [
          -1.719924,
          -3.12346413890583,
          -0.825877336331781,
          -0.464703901832944,
          -2.38077046867501,
          0.762207582337969,
          -0.170146468884657,
          0.199390683324611,
          -3.673391,
          -3.840462,
          -3.902334,
          -6.07408378124666,
          1.90732913740976,
          4.14746304420704,
          -6.41686124988195,
          3.21666864694001,
          -0.354771504483303,
          6.65313650376894
         ],
         "marker": {
          "color": "cadetblue",
          "size": [
           12.89326552977769,
           34.96237036944591,
           26.42918433855098,
           23.772255772623577,
           27.449337244038876,
           30.10305648125302,
           43.717158237694896,
           43.4323663275407,
           27.025543709812837,
           17.250959637845064,
           28.214573983605405,
           9.04164897658272,
           0,
           0,
           0,
           0,
           0,
           0
          ]
         },
         "mode": "markers",
         "opacity": 1,
         "text": [
          "Bus EN_NorthEast",
          "Bus EN_NorthWest",
          "Bus EN_Yorkshire",
          "Bus EN_EastMidlands",
          "Bus EN_WestMidlands",
          "Bus EN_East",
          "Bus EN_London",
          "Bus EN_SouthEast",
          "Bus EN_SouthWest",
          "Bus EN_Wales",
          "Bus Scotland",
          "Bus NorthernIreland",
          "Bus France",
          "Bus Netherlands",
          "Bus Ireland",
          "Bus Belgium",
          "Bus France2",
          "Bus Norway"
         ],
         "type": "scattermapbox"
        }
       ],
       "layout": {
        "annotations": [
         {
          "align": "left",
          "font": {
           "color": "grey",
           "family": "Work Sans, sans-serif",
           "size": 11
          },
          "showarrow": false,
          "text": "<i>Demand concentrated in South East, with wind generation focused in the North.</i>",
          "visible": true,
          "x": 0,
          "xanchor": "left",
          "xref": "paper",
          "y": 1.05,
          "yanchor": "top",
          "yref": "paper"
         },
         {
          "align": "left",
          "font": {
           "color": "grey",
           "family": "Work Sans, sans-serif",
           "size": 11
          },
          "showarrow": false,
          "text": "<i>Sources: Ember, CC BY 4.0.</i>",
          "visible": true,
          "x": 0,
          "xanchor": "left",
          "xref": "paper",
          "y": -0.05,
          "yanchor": "top",
          "yref": "paper"
         }
        ],
        "font": {
         "color": "black",
         "family": "Work Sans, sans-serif",
         "size": 13
        },
        "height": 500,
        "hovermode": "closest",
        "mapbox": {
         "center": {
          "lat": 54.5490229241779,
          "lon": -3.12346413890583
         },
         "style": "carto-positron",
         "zoom": 4
        },
        "margin": {
         "b": 50,
         "l": 50,
         "r": 50,
         "t": 80
        },
        "plot_bgcolor": "white",
        "showlegend": false,
        "template": {
         "data": {
          "bar": [
           {
            "error_x": {
             "color": "#2a3f5f"
            },
            "error_y": {
             "color": "#2a3f5f"
            },
            "marker": {
             "line": {
              "color": "#E5ECF6",
              "width": 0.5
             }
            },
            "type": "bar"
           }
          ],
          "barpolar": [
           {
            "marker": {
             "line": {
              "color": "#E5ECF6",
              "width": 0.5
             }
            },
            "type": "barpolar"
           }
          ],
          "carpet": [
           {
            "aaxis": {
             "endlinecolor": "#2a3f5f",
             "gridcolor": "white",
             "linecolor": "white",
             "minorgridcolor": "white",
             "startlinecolor": "#2a3f5f"
            },
            "baxis": {
             "endlinecolor": "#2a3f5f",
             "gridcolor": "white",
             "linecolor": "white",
             "minorgridcolor": "white",
             "startlinecolor": "#2a3f5f"
            },
            "type": "carpet"
           }
          ],
          "choropleth": [
           {
            "colorbar": {
             "outlinewidth": 0,
             "ticks": ""
            },
            "type": "choropleth"
           }
          ],
          "contour": [
           {
            "colorbar": {
             "outlinewidth": 0,
             "ticks": ""
            },
            "colorscale": [
             [
              0,
              "#0d0887"
             ],
             [
              0.1111111111111111,
              "#46039f"
             ],
             [
              0.2222222222222222,
              "#7201a8"
             ],
             [
              0.3333333333333333,
              "#9c179e"
             ],
             [
              0.4444444444444444,
              "#bd3786"
             ],
             [
              0.5555555555555556,
              "#d8576b"
             ],
             [
              0.6666666666666666,
              "#ed7953"
             ],
             [
              0.7777777777777778,
              "#fb9f3a"
             ],
             [
              0.8888888888888888,
              "#fdca26"
             ],
             [
              1,
              "#f0f921"
             ]
            ],
            "type": "contour"
           }
          ],
          "contourcarpet": [
           {
            "colorbar": {
             "outlinewidth": 0,
             "ticks": ""
            },
            "type": "contourcarpet"
           }
          ],
          "heatmap": [
           {
            "colorbar": {
             "outlinewidth": 0,
             "ticks": ""
            },
            "colorscale": [
             [
              0,
              "#0d0887"
             ],
             [
              0.1111111111111111,
              "#46039f"
             ],
             [
              0.2222222222222222,
              "#7201a8"
             ],
             [
              0.3333333333333333,
              "#9c179e"
             ],
             [
              0.4444444444444444,
              "#bd3786"
             ],
             [
              0.5555555555555556,
              "#d8576b"
             ],
             [
              0.6666666666666666,
              "#ed7953"
             ],
             [
              0.7777777777777778,
              "#fb9f3a"
             ],
             [
              0.8888888888888888,
              "#fdca26"
             ],
             [
              1,
              "#f0f921"
             ]
            ],
            "type": "heatmap"
           }
          ],
          "heatmapgl": [
           {
            "colorbar": {
             "outlinewidth": 0,
             "ticks": ""
            },
            "colorscale": [
             [
              0,
              "#0d0887"
             ],
             [
              0.1111111111111111,
              "#46039f"
             ],
             [
              0.2222222222222222,
              "#7201a8"
             ],
             [
              0.3333333333333333,
              "#9c179e"
             ],
             [
              0.4444444444444444,
              "#bd3786"
             ],
             [
              0.5555555555555556,
              "#d8576b"
             ],
             [
              0.6666666666666666,
              "#ed7953"
             ],
             [
              0.7777777777777778,
              "#fb9f3a"
             ],
             [
              0.8888888888888888,
              "#fdca26"
             ],
             [
              1,
              "#f0f921"
             ]
            ],
            "type": "heatmapgl"
           }
          ],
          "histogram": [
           {
            "marker": {
             "colorbar": {
              "outlinewidth": 0,
              "ticks": ""
             }
            },
            "type": "histogram"
           }
          ],
          "histogram2d": [
           {
            "colorbar": {
             "outlinewidth": 0,
             "ticks": ""
            },
            "colorscale": [
             [
              0,
              "#0d0887"
             ],
             [
              0.1111111111111111,
              "#46039f"
             ],
             [
              0.2222222222222222,
              "#7201a8"
             ],
             [
              0.3333333333333333,
              "#9c179e"
             ],
             [
              0.4444444444444444,
              "#bd3786"
             ],
             [
              0.5555555555555556,
              "#d8576b"
             ],
             [
              0.6666666666666666,
              "#ed7953"
             ],
             [
              0.7777777777777778,
              "#fb9f3a"
             ],
             [
              0.8888888888888888,
              "#fdca26"
             ],
             [
              1,
              "#f0f921"
             ]
            ],
            "type": "histogram2d"
           }
          ],
          "histogram2dcontour": [
           {
            "colorbar": {
             "outlinewidth": 0,
             "ticks": ""
            },
            "colorscale": [
             [
              0,
              "#0d0887"
             ],
             [
              0.1111111111111111,
              "#46039f"
             ],
             [
              0.2222222222222222,
              "#7201a8"
             ],
             [
              0.3333333333333333,
              "#9c179e"
             ],
             [
              0.4444444444444444,
              "#bd3786"
             ],
             [
              0.5555555555555556,
              "#d8576b"
             ],
             [
              0.6666666666666666,
              "#ed7953"
             ],
             [
              0.7777777777777778,
              "#fb9f3a"
             ],
             [
              0.8888888888888888,
              "#fdca26"
             ],
             [
              1,
              "#f0f921"
             ]
            ],
            "type": "histogram2dcontour"
           }
          ],
          "mesh3d": [
           {
            "colorbar": {
             "outlinewidth": 0,
             "ticks": ""
            },
            "type": "mesh3d"
           }
          ],
          "parcoords": [
           {
            "line": {
             "colorbar": {
              "outlinewidth": 0,
              "ticks": ""
             }
            },
            "type": "parcoords"
           }
          ],
          "pie": [
           {
            "automargin": true,
            "type": "pie"
           }
          ],
          "scatter": [
           {
            "marker": {
             "colorbar": {
              "outlinewidth": 0,
              "ticks": ""
             }
            },
            "type": "scatter"
           }
          ],
          "scatter3d": [
           {
            "line": {
             "colorbar": {
              "outlinewidth": 0,
              "ticks": ""
             }
            },
            "marker": {
             "colorbar": {
              "outlinewidth": 0,
              "ticks": ""
             }
            },
            "type": "scatter3d"
           }
          ],
          "scattercarpet": [
           {
            "marker": {
             "colorbar": {
              "outlinewidth": 0,
              "ticks": ""
             }
            },
            "type": "scattercarpet"
           }
          ],
          "scattergeo": [
           {
            "marker": {
             "colorbar": {
              "outlinewidth": 0,
              "ticks": ""
             }
            },
            "type": "scattergeo"
           }
          ],
          "scattergl": [
           {
            "marker": {
             "colorbar": {
              "outlinewidth": 0,
              "ticks": ""
             }
            },
            "type": "scattergl"
           }
          ],
          "scattermapbox": [
           {
            "marker": {
             "colorbar": {
              "outlinewidth": 0,
              "ticks": ""
             }
            },
            "type": "scattermapbox"
           }
          ],
          "scatterpolar": [
           {
            "marker": {
             "colorbar": {
              "outlinewidth": 0,
              "ticks": ""
             }
            },
            "type": "scatterpolar"
           }
          ],
          "scatterpolargl": [
           {
            "marker": {
             "colorbar": {
              "outlinewidth": 0,
              "ticks": ""
             }
            },
            "type": "scatterpolargl"
           }
          ],
          "scatterternary": [
           {
            "marker": {
             "colorbar": {
              "outlinewidth": 0,
              "ticks": ""
             }
            },
            "type": "scatterternary"
           }
          ],
          "surface": [
           {
            "colorbar": {
             "outlinewidth": 0,
             "ticks": ""
            },
            "colorscale": [
             [
              0,
              "#0d0887"
             ],
             [
              0.1111111111111111,
              "#46039f"
             ],
             [
              0.2222222222222222,
              "#7201a8"
             ],
             [
              0.3333333333333333,
              "#9c179e"
             ],
             [
              0.4444444444444444,
              "#bd3786"
             ],
             [
              0.5555555555555556,
              "#d8576b"
             ],
             [
              0.6666666666666666,
              "#ed7953"
             ],
             [
              0.7777777777777778,
              "#fb9f3a"
             ],
             [
              0.8888888888888888,
              "#fdca26"
             ],
             [
              1,
              "#f0f921"
             ]
            ],
            "type": "surface"
           }
          ],
          "table": [
           {
            "cells": {
             "fill": {
              "color": "#EBF0F8"
             },
             "line": {
              "color": "white"
             }
            },
            "header": {
             "fill": {
              "color": "#C8D4E3"
             },
             "line": {
              "color": "white"
             }
            },
            "type": "table"
           }
          ]
         },
         "layout": {
          "annotationdefaults": {
           "arrowcolor": "#2a3f5f",
           "arrowhead": 0,
           "arrowwidth": 1
          },
          "autotypenumbers": "strict",
          "coloraxis": {
           "colorbar": {
            "outlinewidth": 0,
            "ticks": ""
           }
          },
          "colorscale": {
           "diverging": [
            [
             0,
             "#8e0152"
            ],
            [
             0.1,
             "#c51b7d"
            ],
            [
             0.2,
             "#de77ae"
            ],
            [
             0.3,
             "#f1b6da"
            ],
            [
             0.4,
             "#fde0ef"
            ],
            [
             0.5,
             "#f7f7f7"
            ],
            [
             0.6,
             "#e6f5d0"
            ],
            [
             0.7,
             "#b8e186"
            ],
            [
             0.8,
             "#7fbc41"
            ],
            [
             0.9,
             "#4d9221"
            ],
            [
             1,
             "#276419"
            ]
           ],
           "sequential": [
            [
             0,
             "#0d0887"
            ],
            [
             0.1111111111111111,
             "#46039f"
            ],
            [
             0.2222222222222222,
             "#7201a8"
            ],
            [
             0.3333333333333333,
             "#9c179e"
            ],
            [
             0.4444444444444444,
             "#bd3786"
            ],
            [
             0.5555555555555556,
             "#d8576b"
            ],
            [
             0.6666666666666666,
             "#ed7953"
            ],
            [
             0.7777777777777778,
             "#fb9f3a"
            ],
            [
             0.8888888888888888,
             "#fdca26"
            ],
            [
             1,
             "#f0f921"
            ]
           ],
           "sequentialminus": [
            [
             0,
             "#0d0887"
            ],
            [
             0.1111111111111111,
             "#46039f"
            ],
            [
             0.2222222222222222,
             "#7201a8"
            ],
            [
             0.3333333333333333,
             "#9c179e"
            ],
            [
             0.4444444444444444,
             "#bd3786"
            ],
            [
             0.5555555555555556,
             "#d8576b"
            ],
            [
             0.6666666666666666,
             "#ed7953"
            ],
            [
             0.7777777777777778,
             "#fb9f3a"
            ],
            [
             0.8888888888888888,
             "#fdca26"
            ],
            [
             1,
             "#f0f921"
            ]
           ]
          },
          "colorway": [
           "#636efa",
           "#EF553B",
           "#00cc96",
           "#ab63fa",
           "#FFA15A",
           "#19d3f3",
           "#FF6692",
           "#B6E880",
           "#FF97FF",
           "#FECB52"
          ],
          "font": {
           "color": "#2a3f5f"
          },
          "geo": {
           "bgcolor": "white",
           "lakecolor": "white",
           "landcolor": "#E5ECF6",
           "showlakes": true,
           "showland": true,
           "subunitcolor": "white"
          },
          "hoverlabel": {
           "align": "left"
          },
          "hovermode": "closest",
          "mapbox": {
           "style": "light"
          },
          "paper_bgcolor": "white",
          "plot_bgcolor": "#E5ECF6",
          "polar": {
           "angularaxis": {
            "gridcolor": "white",
            "linecolor": "white",
            "ticks": ""
           },
           "bgcolor": "#E5ECF6",
           "radialaxis": {
            "gridcolor": "white",
            "linecolor": "white",
            "ticks": ""
           }
          },
          "scene": {
           "xaxis": {
            "backgroundcolor": "#E5ECF6",
            "gridcolor": "white",
            "gridwidth": 2,
            "linecolor": "white",
            "showbackground": true,
            "ticks": "",
            "zerolinecolor": "white"
           },
           "yaxis": {
            "backgroundcolor": "#E5ECF6",
            "gridcolor": "white",
            "gridwidth": 2,
            "linecolor": "white",
            "showbackground": true,
            "ticks": "",
            "zerolinecolor": "white"
           },
           "zaxis": {
            "backgroundcolor": "#E5ECF6",
            "gridcolor": "white",
            "gridwidth": 2,
            "linecolor": "white",
            "showbackground": true,
            "ticks": "",
            "zerolinecolor": "white"
           }
          },
          "shapedefaults": {
           "line": {
            "color": "#2a3f5f"
           }
          },
          "ternary": {
           "aaxis": {
            "gridcolor": "white",
            "linecolor": "white",
            "ticks": ""
           },
           "baxis": {
            "gridcolor": "white",
            "linecolor": "white",
            "ticks": ""
           },
           "bgcolor": "#E5ECF6",
           "caxis": {
            "gridcolor": "white",
            "linecolor": "white",
            "ticks": ""
           }
          },
          "title": {
           "x": 0.05
          },
          "xaxis": {
           "automargin": true,
           "gridcolor": "white",
           "linecolor": "white",
           "ticks": "",
           "title": {
            "standoff": 15
           },
           "zerolinecolor": "white",
           "zerolinewidth": 2
          },
          "yaxis": {
           "automargin": true,
           "gridcolor": "white",
           "linecolor": "white",
           "ticks": "",
           "title": {
            "standoff": 15
           },
           "zerolinecolor": "white",
           "zerolinewidth": 2
          }
         }
        },
        "title": {
         "text": "<b>Load distribution per line and demand per node</b>"
        },
        "width": 800
       }
      }
     },
     "metadata": {}
    }
   ],
   "metadata": {}
  },
  {
   "cell_type": "code",
   "execution_count": 17,
   "source": [
    "domestic_generation_by_fuel_yearly = generation_by_fuel_yearly\r\n",
    "domestic_generation_by_fuel_yearly=domestic_generation_by_fuel_yearly.drop('CBF')\r\n",
    "generation_by_fuel_yearly_percentage = domestic_generation_by_fuel_yearly.div(domestic_generation_by_fuel_yearly.sum(), axis=0)\r\n",
    "generation_by_fuel_yearly_percentage = generation_by_fuel_yearly_percentage.round(3)\r\n",
    "generation_by_fuel_yearly_percentage = (generation_by_fuel_yearly_percentage * 100).astype(str) + '%'\r\n",
    "generation_by_fuel_yearly_percentage\r\n"
   ],
   "outputs": [
    {
     "output_type": "execute_result",
     "data": {
      "text/plain": [
       "carrier\n",
       "Biogas                          3.0%\n",
       "Biomass                         9.8%\n",
       "Coal                            0.4%\n",
       "Gas              40.400000000000006%\n",
       "Hydro            1.7999999999999998%\n",
       "Nuclear                        19.0%\n",
       "Oil                             0.0%\n",
       "PV               4.1000000000000005%\n",
       "Wind                           10.6%\n",
       "Wind offshore                  11.0%\n",
       "dtype: object"
      ]
     },
     "metadata": {},
     "execution_count": 17
    }
   ],
   "metadata": {}
  },
  {
   "cell_type": "code",
   "execution_count": 132,
   "source": [
    "initial_capacity = pd.Series()\r\n",
    "initial_capacity['PV'] = gen_pv['p_nom'].sum()\r\n",
    "initial_capacity['Wind'] = gen_wind['p_nom'].sum()\r\n",
    "initial_capacity['Wind offshore'] = gen_wind_offshore['p_nom'].sum()\r\n",
    "initial_capacity['Gas'] = gen_gas['p_nom'].sum()\r\n",
    "initial_capacity['Oil'] = gen_oil['p_nom'].sum()\r\n",
    "initial_capacity['Coal'] = gen_coal['p_nom'].sum()\r\n",
    "initial_capacity['Lignite'] = gen_lignite['p_nom'].sum()\r\n",
    "initial_capacity['Nuclear'] = gen_nuclear['p_nom'].sum()\r\n",
    "initial_capacity['Biomass'] = gen_biomass['p_nom'].sum()\r\n",
    "initial_capacity['Biogas'] = gen_biogas['p_nom'].sum()\r\n",
    "initial_capacity['Hydro'] = gen_hydro['p_nom'].sum()\r\n",
    "\r\n",
    "capacity_comparison = pd.DataFrame()\r\n",
    "capacity_comparison['Initial'] = initial_capacity\r\n",
    "capacity_comparison['Optimized'] = network.generators.groupby(\"carrier\")[\"p_nom_opt\"].sum()\r\n",
    "capacity_comparison = capacity_comparison.astype('int32')\r\n",
    "\r\n",
    "capacity_comparison"
   ],
   "outputs": [
    {
     "output_type": "stream",
     "name": "stderr",
     "text": [
      "C:\\ProgramData\\Miniconda3\\envs\\instrat-energy-model\\lib\\site-packages\\ipykernel_launcher.py:1: DeprecationWarning:\n",
      "\n",
      "The default dtype for empty Series will be 'object' instead of 'float64' in a future version. Specify a dtype explicitly to silence this warning.\n",
      "\n"
     ]
    },
    {
     "output_type": "execute_result",
     "data": {
      "text/html": [
       "<div>\n",
       "<style scoped>\n",
       "    .dataframe tbody tr th:only-of-type {\n",
       "        vertical-align: middle;\n",
       "    }\n",
       "\n",
       "    .dataframe tbody tr th {\n",
       "        vertical-align: top;\n",
       "    }\n",
       "\n",
       "    .dataframe thead th {\n",
       "        text-align: right;\n",
       "    }\n",
       "</style>\n",
       "<table border=\"1\" class=\"dataframe\">\n",
       "  <thead>\n",
       "    <tr style=\"text-align: right;\">\n",
       "      <th></th>\n",
       "      <th>Initial</th>\n",
       "      <th>Optimized</th>\n",
       "    </tr>\n",
       "  </thead>\n",
       "  <tbody>\n",
       "    <tr>\n",
       "      <th>PV</th>\n",
       "      <td>79022</td>\n",
       "      <td>325598</td>\n",
       "    </tr>\n",
       "    <tr>\n",
       "      <th>Wind</th>\n",
       "      <td>78390</td>\n",
       "      <td>429457</td>\n",
       "    </tr>\n",
       "    <tr>\n",
       "      <th>Wind offshore</th>\n",
       "      <td>7970</td>\n",
       "      <td>206545</td>\n",
       "    </tr>\n",
       "    <tr>\n",
       "      <th>Gas</th>\n",
       "      <td>39845</td>\n",
       "      <td>77114</td>\n",
       "    </tr>\n",
       "    <tr>\n",
       "      <th>Oil</th>\n",
       "      <td>4346</td>\n",
       "      <td>4346</td>\n",
       "    </tr>\n",
       "    <tr>\n",
       "      <th>Coal</th>\n",
       "      <td>109058</td>\n",
       "      <td>109058</td>\n",
       "    </tr>\n",
       "    <tr>\n",
       "      <th>Lignite</th>\n",
       "      <td>37681</td>\n",
       "      <td>37681</td>\n",
       "    </tr>\n",
       "    <tr>\n",
       "      <th>Nuclear</th>\n",
       "      <td>39397</td>\n",
       "      <td>39397</td>\n",
       "    </tr>\n",
       "    <tr>\n",
       "      <th>Biomass</th>\n",
       "      <td>8018</td>\n",
       "      <td>8018</td>\n",
       "    </tr>\n",
       "    <tr>\n",
       "      <th>Biogas</th>\n",
       "      <td>7881</td>\n",
       "      <td>7881</td>\n",
       "    </tr>\n",
       "    <tr>\n",
       "      <th>Hydro</th>\n",
       "      <td>30452</td>\n",
       "      <td>30452</td>\n",
       "    </tr>\n",
       "  </tbody>\n",
       "</table>\n",
       "</div>"
      ],
      "text/plain": [
       "               Initial  Optimized\n",
       "PV               79022     325598\n",
       "Wind             78390     429457\n",
       "Wind offshore     7970     206545\n",
       "Gas              39845      77114\n",
       "Oil               4346       4346\n",
       "Coal            109058     109058\n",
       "Lignite          37681      37681\n",
       "Nuclear          39397      39397\n",
       "Biomass           8018       8018\n",
       "Biogas            7881       7881\n",
       "Hydro            30452      30452"
      ]
     },
     "metadata": {},
     "execution_count": 132
    }
   ],
   "metadata": {}
  },
  {
   "cell_type": "code",
   "execution_count": 133,
   "source": [
    "link_loading = network.links_t.p0.sum()/(network.links.p_nom.sum()*8760)\r\n",
    "link_loading = link_loading.round(4)\r\n",
    "link_loading = (link_loading * 100).astype(str) + '%'\r\n",
    "link_loading"
   ],
   "outputs": [
    {
     "output_type": "execute_result",
     "data": {
      "text/plain": [
       "name\n",
       "linkSE_OUT     5.36%\n",
       "linkSE_IN      2.08%\n",
       "linkDE_OUT     2.65%\n",
       "linkDE_IN      3.82%\n",
       "linkCZ_OUT    10.97%\n",
       "linkCZ_IN      4.82%\n",
       "linkLT_OUT     4.79%\n",
       "linkLT_IN      0.84%\n",
       "linkUA_OUT      0.0%\n",
       "linkUA_IN      0.91%\n",
       "linkSK_OUT     8.06%\n",
       "linkSK_IN      2.19%\n",
       "dtype: object"
      ]
     },
     "metadata": {},
     "execution_count": 133
    }
   ],
   "metadata": {}
  }
 ],
 "metadata": {
  "orig_nbformat": 4,
  "language_info": {
   "name": "python",
   "version": "3.7.7",
   "mimetype": "text/x-python",
   "codemirror_mode": {
    "name": "ipython",
    "version": 3
   },
   "pygments_lexer": "ipython3",
   "nbconvert_exporter": "python",
   "file_extension": ".py"
  },
  "kernelspec": {
   "name": "python3",
   "display_name": "Python 3.7.7 64-bit ('instrat-energy-model': conda)"
  },
  "interpreter": {
   "hash": "eca4985000c6ac3343c7ce1613e5b871e774106b7f73d15bd2b3794a42a8f709"
  }
 },
 "nbformat": 4,
 "nbformat_minor": 2
}